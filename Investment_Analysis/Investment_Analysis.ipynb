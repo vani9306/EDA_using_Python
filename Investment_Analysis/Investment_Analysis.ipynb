{
  "nbformat": 4,
  "nbformat_minor": 0,
  "metadata": {
    "colab": {
      "name": "Investment_Analysis.ipynb",
      "provenance": [],
      "collapsed_sections": [],
      "include_colab_link": true
    },
    "kernelspec": {
      "name": "python3",
      "display_name": "Python 3"
    }
  },
  "cells": [
    {
      "cell_type": "markdown",
      "metadata": {
        "id": "view-in-github",
        "colab_type": "text"
      },
      "source": [
        "<a href=\"https://colab.research.google.com/github/vani9306/EDA_using_Python/blob/master/Investment_Analysis.ipynb\" target=\"_parent\"><img src=\"https://colab.research.google.com/assets/colab-badge.svg\" alt=\"Open In Colab\"/></a>"
      ]
    },
    {
      "cell_type": "markdown",
      "metadata": {
        "id": "z9F3DJVoABBA",
        "colab_type": "text"
      },
      "source": [
        "##**Problem Satement:**\n",
        "###Understanding the global trends in investments for the investment firm, SPARKS FUNDS\n",
        "\n",
        "###**Business objective:** The objective is to identify the best sectors, countries, and a suitable investment type for making investments. The overall strategy is to invest where others are investing, implying that the 'best' sectors and countries are the ones 'where most investors are investing'."
      ]
    },
    {
      "cell_type": "markdown",
      "metadata": {
        "id": "cfE_D5saAhOY",
        "colab_type": "text"
      },
      "source": [
        "\n",
        "---\n",
        "Let's begin our analysis by importing the required python libraries\n"
      ]
    },
    {
      "cell_type": "code",
      "metadata": {
        "id": "cIAJvYkZE9ef",
        "colab_type": "code",
        "colab": {
          "base_uri": "https://localhost:8080/",
          "height": 51
        },
        "outputId": "75575005-7b4d-4df8-db21-74b939692d20"
      },
      "source": [
        "import numpy as np\n",
        "import pandas as pd\n",
        "pd.set_option('display.float_format', lambda x:'%.4f'%x)\n",
        "import matplotlib.pyplot as plt\n",
        "import matplotlib.ticker as ticker\n",
        "import seaborn as sns\n",
        "import warnings\n",
        "warnings.filterwarnings('ignore')"
      ],
      "execution_count": null,
      "outputs": [
        {
          "output_type": "stream",
          "text": [
            "/usr/local/lib/python3.6/dist-packages/statsmodels/tools/_testing.py:19: FutureWarning: pandas.util.testing is deprecated. Use the functions in the public API at pandas.testing instead.\n",
            "  import pandas.util.testing as tm\n"
          ],
          "name": "stderr"
        }
      ]
    },
    {
      "cell_type": "code",
      "metadata": {
        "id": "y1iQ2g2k1jY7",
        "colab_type": "code",
        "colab": {}
      },
      "source": [
        "#path from where the files are accessed:\n",
        "path = '/content/'"
      ],
      "execution_count": null,
      "outputs": []
    },
    {
      "cell_type": "code",
      "metadata": {
        "id": "KibPXCkxISXy",
        "colab_type": "code",
        "colab": {
          "base_uri": "https://localhost:8080/",
          "height": 34
        },
        "outputId": "d91e629c-dfd3-4350-e2ba-350b8582e633"
      },
      "source": [
        "#Importing the companies data\n",
        "\n",
        "companies = pd.read_csv(path+'companies.txt', sep='\\t',encoding='latin1')\n",
        "\n",
        "print(\"Rows and Columns present in the companies dataframe:\",companies.shape)"
      ],
      "execution_count": null,
      "outputs": [
        {
          "output_type": "stream",
          "text": [
            "Rows and Columns present in the companies dataframe: (66368, 10)\n"
          ],
          "name": "stdout"
        }
      ]
    },
    {
      "cell_type": "code",
      "metadata": {
        "id": "qpDESnXuCVhz",
        "colab_type": "code",
        "colab": {
          "base_uri": "https://localhost:8080/",
          "height": 306
        },
        "outputId": "2dd886e0-4c3d-4f20-ebfc-0f3ce1862055"
      },
      "source": [
        "#Information on the attributes present in the companies dataframe\n",
        "companies.info()"
      ],
      "execution_count": null,
      "outputs": [
        {
          "output_type": "stream",
          "text": [
            "<class 'pandas.core.frame.DataFrame'>\n",
            "RangeIndex: 66368 entries, 0 to 66367\n",
            "Data columns (total 10 columns):\n",
            " #   Column         Non-Null Count  Dtype \n",
            "---  ------         --------------  ----- \n",
            " 0   permalink      66368 non-null  object\n",
            " 1   name           66367 non-null  object\n",
            " 2   homepage_url   61310 non-null  object\n",
            " 3   category_list  63220 non-null  object\n",
            " 4   status         66368 non-null  object\n",
            " 5   country_code   59410 non-null  object\n",
            " 6   state_code     57821 non-null  object\n",
            " 7   region         58338 non-null  object\n",
            " 8   city           58340 non-null  object\n",
            " 9   founded_at     51147 non-null  object\n",
            "dtypes: object(10)\n",
            "memory usage: 5.1+ MB\n"
          ],
          "name": "stdout"
        }
      ]
    },
    {
      "cell_type": "code",
      "metadata": {
        "id": "FtdMmlE-hjli",
        "colab_type": "code",
        "colab": {
          "base_uri": "https://localhost:8080/",
          "height": 255
        },
        "outputId": "68cb725f-b75f-4d66-c1a8-6d29a5f0145d"
      },
      "source": [
        "#viewing the first 5 rows of data present in the companies dataframe\n",
        "companies.head()"
      ],
      "execution_count": null,
      "outputs": [
        {
          "output_type": "execute_result",
          "data": {
            "text/html": [
              "<div>\n",
              "<style scoped>\n",
              "    .dataframe tbody tr th:only-of-type {\n",
              "        vertical-align: middle;\n",
              "    }\n",
              "\n",
              "    .dataframe tbody tr th {\n",
              "        vertical-align: top;\n",
              "    }\n",
              "\n",
              "    .dataframe thead th {\n",
              "        text-align: right;\n",
              "    }\n",
              "</style>\n",
              "<table border=\"1\" class=\"dataframe\">\n",
              "  <thead>\n",
              "    <tr style=\"text-align: right;\">\n",
              "      <th></th>\n",
              "      <th>permalink</th>\n",
              "      <th>name</th>\n",
              "      <th>homepage_url</th>\n",
              "      <th>category_list</th>\n",
              "      <th>status</th>\n",
              "      <th>country_code</th>\n",
              "      <th>state_code</th>\n",
              "      <th>region</th>\n",
              "      <th>city</th>\n",
              "      <th>founded_at</th>\n",
              "    </tr>\n",
              "  </thead>\n",
              "  <tbody>\n",
              "    <tr>\n",
              "      <th>0</th>\n",
              "      <td>/Organization/-Fame</td>\n",
              "      <td>#fame</td>\n",
              "      <td>http://livfame.com</td>\n",
              "      <td>Media</td>\n",
              "      <td>operating</td>\n",
              "      <td>IND</td>\n",
              "      <td>16</td>\n",
              "      <td>Mumbai</td>\n",
              "      <td>Mumbai</td>\n",
              "      <td>NaN</td>\n",
              "    </tr>\n",
              "    <tr>\n",
              "      <th>1</th>\n",
              "      <td>/Organization/-Qounter</td>\n",
              "      <td>:Qounter</td>\n",
              "      <td>http://www.qounter.com</td>\n",
              "      <td>Application Platforms|Real Time|Social Network...</td>\n",
              "      <td>operating</td>\n",
              "      <td>USA</td>\n",
              "      <td>DE</td>\n",
              "      <td>DE - Other</td>\n",
              "      <td>Delaware City</td>\n",
              "      <td>04-09-2014</td>\n",
              "    </tr>\n",
              "    <tr>\n",
              "      <th>2</th>\n",
              "      <td>/Organization/-The-One-Of-Them-Inc-</td>\n",
              "      <td>(THE) ONE of THEM,Inc.</td>\n",
              "      <td>http://oneofthem.jp</td>\n",
              "      <td>Apps|Games|Mobile</td>\n",
              "      <td>operating</td>\n",
              "      <td>NaN</td>\n",
              "      <td>NaN</td>\n",
              "      <td>NaN</td>\n",
              "      <td>NaN</td>\n",
              "      <td>NaN</td>\n",
              "    </tr>\n",
              "    <tr>\n",
              "      <th>3</th>\n",
              "      <td>/Organization/0-6-Com</td>\n",
              "      <td>0-6.com</td>\n",
              "      <td>http://www.0-6.com</td>\n",
              "      <td>Curated Web</td>\n",
              "      <td>operating</td>\n",
              "      <td>CHN</td>\n",
              "      <td>22</td>\n",
              "      <td>Beijing</td>\n",
              "      <td>Beijing</td>\n",
              "      <td>01-01-2007</td>\n",
              "    </tr>\n",
              "    <tr>\n",
              "      <th>4</th>\n",
              "      <td>/Organization/004-Technologies</td>\n",
              "      <td>004 Technologies</td>\n",
              "      <td>http://004gmbh.de/en/004-interact</td>\n",
              "      <td>Software</td>\n",
              "      <td>operating</td>\n",
              "      <td>USA</td>\n",
              "      <td>IL</td>\n",
              "      <td>Springfield, Illinois</td>\n",
              "      <td>Champaign</td>\n",
              "      <td>01-01-2010</td>\n",
              "    </tr>\n",
              "  </tbody>\n",
              "</table>\n",
              "</div>"
            ],
            "text/plain": [
              "                             permalink  ...  founded_at\n",
              "0                  /Organization/-Fame  ...         NaN\n",
              "1               /Organization/-Qounter  ...  04-09-2014\n",
              "2  /Organization/-The-One-Of-Them-Inc-  ...         NaN\n",
              "3                /Organization/0-6-Com  ...  01-01-2007\n",
              "4       /Organization/004-Technologies  ...  01-01-2010\n",
              "\n",
              "[5 rows x 10 columns]"
            ]
          },
          "metadata": {
            "tags": []
          },
          "execution_count": 5
        }
      ]
    },
    {
      "cell_type": "code",
      "metadata": {
        "id": "DICptu9QDh6s",
        "colab_type": "code",
        "colab": {
          "base_uri": "https://localhost:8080/",
          "height": 272
        },
        "outputId": "918bf8a0-aaaf-49f5-e9d9-1cb1c6866922"
      },
      "source": [
        "#viewing the last 5 rows of data present in the companies dataframe\n",
        "companies.tail()"
      ],
      "execution_count": null,
      "outputs": [
        {
          "output_type": "execute_result",
          "data": {
            "text/html": [
              "<div>\n",
              "<style scoped>\n",
              "    .dataframe tbody tr th:only-of-type {\n",
              "        vertical-align: middle;\n",
              "    }\n",
              "\n",
              "    .dataframe tbody tr th {\n",
              "        vertical-align: top;\n",
              "    }\n",
              "\n",
              "    .dataframe thead th {\n",
              "        text-align: right;\n",
              "    }\n",
              "</style>\n",
              "<table border=\"1\" class=\"dataframe\">\n",
              "  <thead>\n",
              "    <tr style=\"text-align: right;\">\n",
              "      <th></th>\n",
              "      <th>permalink</th>\n",
              "      <th>name</th>\n",
              "      <th>homepage_url</th>\n",
              "      <th>category_list</th>\n",
              "      <th>status</th>\n",
              "      <th>country_code</th>\n",
              "      <th>state_code</th>\n",
              "      <th>region</th>\n",
              "      <th>city</th>\n",
              "      <th>founded_at</th>\n",
              "    </tr>\n",
              "  </thead>\n",
              "  <tbody>\n",
              "    <tr>\n",
              "      <th>66363</th>\n",
              "      <td>/Organization/Zznode-Science-And-Technology-Co...</td>\n",
              "      <td>ZZNode Science and Technology</td>\n",
              "      <td>http://www.zznode.com</td>\n",
              "      <td>Enterprise Software</td>\n",
              "      <td>operating</td>\n",
              "      <td>CHN</td>\n",
              "      <td>22</td>\n",
              "      <td>Beijing</td>\n",
              "      <td>Beijing</td>\n",
              "      <td>NaN</td>\n",
              "    </tr>\n",
              "    <tr>\n",
              "      <th>66364</th>\n",
              "      <td>/Organization/Zzzzapp-Com</td>\n",
              "      <td>Zzzzapp Wireless ltd.</td>\n",
              "      <td>http://www.zzzzapp.com</td>\n",
              "      <td>Advertising|Mobile|Web Development|Wireless</td>\n",
              "      <td>operating</td>\n",
              "      <td>HRV</td>\n",
              "      <td>15</td>\n",
              "      <td>Split</td>\n",
              "      <td>Split</td>\n",
              "      <td>13-05-2012</td>\n",
              "    </tr>\n",
              "    <tr>\n",
              "      <th>66365</th>\n",
              "      <td>/Organization/ÃEron</td>\n",
              "      <td>ÃERON</td>\n",
              "      <td>http://www.aeron.hu/</td>\n",
              "      <td>NaN</td>\n",
              "      <td>operating</td>\n",
              "      <td>NaN</td>\n",
              "      <td>NaN</td>\n",
              "      <td>NaN</td>\n",
              "      <td>NaN</td>\n",
              "      <td>01-01-2011</td>\n",
              "    </tr>\n",
              "    <tr>\n",
              "      <th>66366</th>\n",
              "      <td>/Organization/ÃAsys-2</td>\n",
              "      <td>Ãasys</td>\n",
              "      <td>http://www.oasys.io/</td>\n",
              "      <td>Consumer Electronics|Internet of Things|Teleco...</td>\n",
              "      <td>operating</td>\n",
              "      <td>USA</td>\n",
              "      <td>CA</td>\n",
              "      <td>SF Bay Area</td>\n",
              "      <td>San Francisco</td>\n",
              "      <td>01-01-2014</td>\n",
              "    </tr>\n",
              "    <tr>\n",
              "      <th>66367</th>\n",
              "      <td>/Organization/Ä°Novatiff-Reklam-Ve-Tanä±Tä±M-H...</td>\n",
              "      <td>Ä°novatiff Reklam ve TanÄ±tÄ±m Hizmetleri Tic</td>\n",
              "      <td>http://inovatiff.com</td>\n",
              "      <td>Consumer Goods|E-Commerce|Internet</td>\n",
              "      <td>operating</td>\n",
              "      <td>NaN</td>\n",
              "      <td>NaN</td>\n",
              "      <td>NaN</td>\n",
              "      <td>NaN</td>\n",
              "      <td>NaN</td>\n",
              "    </tr>\n",
              "  </tbody>\n",
              "</table>\n",
              "</div>"
            ],
            "text/plain": [
              "                                               permalink  ...  founded_at\n",
              "66363  /Organization/Zznode-Science-And-Technology-Co...  ...         NaN\n",
              "66364                          /Organization/Zzzzapp-Com  ...  13-05-2012\n",
              "66365                               /Organization/ÃEron  ...  01-01-2011\n",
              "66366                             /Organization/ÃAsys-2  ...  01-01-2014\n",
              "66367  /Organization/Ä°Novatiff-Reklam-Ve-Tanä±Tä±M-H...  ...         NaN\n",
              "\n",
              "[5 rows x 10 columns]"
            ]
          },
          "metadata": {
            "tags": []
          },
          "execution_count": 6
        }
      ]
    },
    {
      "cell_type": "code",
      "metadata": {
        "id": "bdYrjO0LIUqE",
        "colab_type": "code",
        "colab": {
          "base_uri": "https://localhost:8080/",
          "height": 34
        },
        "outputId": "3cc8a9df-0498-42d6-bcc2-fc80c4effb8e"
      },
      "source": [
        "#Importing the rounds2 data\n",
        "rounds2 = pd.read_csv(path+'rounds2.csv',encoding='latin1')\n",
        "\n",
        "print(\"Rows and Columns present in the rounds2 dataframe:\",rounds2.shape)"
      ],
      "execution_count": null,
      "outputs": [
        {
          "output_type": "stream",
          "text": [
            "Rows and Columns present in the rounds2 dataframe: (114949, 6)\n"
          ],
          "name": "stdout"
        }
      ]
    },
    {
      "cell_type": "code",
      "metadata": {
        "id": "pVwW1QAXCvAZ",
        "colab_type": "code",
        "colab": {
          "base_uri": "https://localhost:8080/",
          "height": 238
        },
        "outputId": "a6644608-ba2d-4a63-c3fa-940084677ce1"
      },
      "source": [
        "#Information on the attributes present in the rounds2 dataframe\n",
        "rounds2.info()"
      ],
      "execution_count": null,
      "outputs": [
        {
          "output_type": "stream",
          "text": [
            "<class 'pandas.core.frame.DataFrame'>\n",
            "RangeIndex: 114949 entries, 0 to 114948\n",
            "Data columns (total 6 columns):\n",
            " #   Column                   Non-Null Count   Dtype  \n",
            "---  ------                   --------------   -----  \n",
            " 0   company_permalink        114949 non-null  object \n",
            " 1   funding_round_permalink  114949 non-null  object \n",
            " 2   funding_round_type       114949 non-null  object \n",
            " 3   funding_round_code       31140 non-null   object \n",
            " 4   funded_at                114949 non-null  object \n",
            " 5   raised_amount_usd        94959 non-null   float64\n",
            "dtypes: float64(1), object(5)\n",
            "memory usage: 5.3+ MB\n"
          ],
          "name": "stdout"
        }
      ]
    },
    {
      "cell_type": "code",
      "metadata": {
        "id": "V_a4faJPCzzH",
        "colab_type": "code",
        "colab": {
          "base_uri": "https://localhost:8080/",
          "height": 297
        },
        "outputId": "d223570e-2bb3-457c-ff55-61a30af81ffa"
      },
      "source": [
        "#describing the raised_amt\n",
        "\n",
        "rounds2.describe()"
      ],
      "execution_count": null,
      "outputs": [
        {
          "output_type": "execute_result",
          "data": {
            "text/html": [
              "<div>\n",
              "<style scoped>\n",
              "    .dataframe tbody tr th:only-of-type {\n",
              "        vertical-align: middle;\n",
              "    }\n",
              "\n",
              "    .dataframe tbody tr th {\n",
              "        vertical-align: top;\n",
              "    }\n",
              "\n",
              "    .dataframe thead th {\n",
              "        text-align: right;\n",
              "    }\n",
              "</style>\n",
              "<table border=\"1\" class=\"dataframe\">\n",
              "  <thead>\n",
              "    <tr style=\"text-align: right;\">\n",
              "      <th></th>\n",
              "      <th>raised_amount_usd</th>\n",
              "    </tr>\n",
              "  </thead>\n",
              "  <tbody>\n",
              "    <tr>\n",
              "      <th>count</th>\n",
              "      <td>94959.0000</td>\n",
              "    </tr>\n",
              "    <tr>\n",
              "      <th>mean</th>\n",
              "      <td>10426869.3345</td>\n",
              "    </tr>\n",
              "    <tr>\n",
              "      <th>std</th>\n",
              "      <td>114821247.9849</td>\n",
              "    </tr>\n",
              "    <tr>\n",
              "      <th>min</th>\n",
              "      <td>0.0000</td>\n",
              "    </tr>\n",
              "    <tr>\n",
              "      <th>25%</th>\n",
              "      <td>322500.0000</td>\n",
              "    </tr>\n",
              "    <tr>\n",
              "      <th>50%</th>\n",
              "      <td>1680511.0000</td>\n",
              "    </tr>\n",
              "    <tr>\n",
              "      <th>75%</th>\n",
              "      <td>7000000.0000</td>\n",
              "    </tr>\n",
              "    <tr>\n",
              "      <th>max</th>\n",
              "      <td>21271935000.0000</td>\n",
              "    </tr>\n",
              "  </tbody>\n",
              "</table>\n",
              "</div>"
            ],
            "text/plain": [
              "       raised_amount_usd\n",
              "count         94959.0000\n",
              "mean       10426869.3345\n",
              "std       114821247.9849\n",
              "min               0.0000\n",
              "25%          322500.0000\n",
              "50%         1680511.0000\n",
              "75%         7000000.0000\n",
              "max     21271935000.0000"
            ]
          },
          "metadata": {
            "tags": []
          },
          "execution_count": 9
        }
      ]
    },
    {
      "cell_type": "code",
      "metadata": {
        "id": "on24_PlFhyIR",
        "colab_type": "code",
        "colab": {
          "base_uri": "https://localhost:8080/",
          "height": 204
        },
        "outputId": "497c3e27-c9c4-4d2e-e440-8fa2267954ea"
      },
      "source": [
        "#viewing the first 5 rows of data present in the rounds2 dataframe\n",
        "rounds2.head()"
      ],
      "execution_count": null,
      "outputs": [
        {
          "output_type": "execute_result",
          "data": {
            "text/html": [
              "<div>\n",
              "<style scoped>\n",
              "    .dataframe tbody tr th:only-of-type {\n",
              "        vertical-align: middle;\n",
              "    }\n",
              "\n",
              "    .dataframe tbody tr th {\n",
              "        vertical-align: top;\n",
              "    }\n",
              "\n",
              "    .dataframe thead th {\n",
              "        text-align: right;\n",
              "    }\n",
              "</style>\n",
              "<table border=\"1\" class=\"dataframe\">\n",
              "  <thead>\n",
              "    <tr style=\"text-align: right;\">\n",
              "      <th></th>\n",
              "      <th>company_permalink</th>\n",
              "      <th>funding_round_permalink</th>\n",
              "      <th>funding_round_type</th>\n",
              "      <th>funding_round_code</th>\n",
              "      <th>funded_at</th>\n",
              "      <th>raised_amount_usd</th>\n",
              "    </tr>\n",
              "  </thead>\n",
              "  <tbody>\n",
              "    <tr>\n",
              "      <th>0</th>\n",
              "      <td>/organization/-fame</td>\n",
              "      <td>/funding-round/9a01d05418af9f794eebff7ace91f638</td>\n",
              "      <td>venture</td>\n",
              "      <td>B</td>\n",
              "      <td>05-01-2015</td>\n",
              "      <td>10000000.0000</td>\n",
              "    </tr>\n",
              "    <tr>\n",
              "      <th>1</th>\n",
              "      <td>/ORGANIZATION/-QOUNTER</td>\n",
              "      <td>/funding-round/22dacff496eb7acb2b901dec1dfe5633</td>\n",
              "      <td>venture</td>\n",
              "      <td>A</td>\n",
              "      <td>14-10-2014</td>\n",
              "      <td>nan</td>\n",
              "    </tr>\n",
              "    <tr>\n",
              "      <th>2</th>\n",
              "      <td>/organization/-qounter</td>\n",
              "      <td>/funding-round/b44fbb94153f6cdef13083530bb48030</td>\n",
              "      <td>seed</td>\n",
              "      <td>NaN</td>\n",
              "      <td>01-03-2014</td>\n",
              "      <td>700000.0000</td>\n",
              "    </tr>\n",
              "    <tr>\n",
              "      <th>3</th>\n",
              "      <td>/ORGANIZATION/-THE-ONE-OF-THEM-INC-</td>\n",
              "      <td>/funding-round/650b8f704416801069bb178a1418776b</td>\n",
              "      <td>venture</td>\n",
              "      <td>B</td>\n",
              "      <td>30-01-2014</td>\n",
              "      <td>3406878.0000</td>\n",
              "    </tr>\n",
              "    <tr>\n",
              "      <th>4</th>\n",
              "      <td>/organization/0-6-com</td>\n",
              "      <td>/funding-round/5727accaeaa57461bd22a9bdd945382d</td>\n",
              "      <td>venture</td>\n",
              "      <td>A</td>\n",
              "      <td>19-03-2008</td>\n",
              "      <td>2000000.0000</td>\n",
              "    </tr>\n",
              "  </tbody>\n",
              "</table>\n",
              "</div>"
            ],
            "text/plain": [
              "                     company_permalink  ... raised_amount_usd\n",
              "0                  /organization/-fame  ...     10000000.0000\n",
              "1               /ORGANIZATION/-QOUNTER  ...               nan\n",
              "2               /organization/-qounter  ...       700000.0000\n",
              "3  /ORGANIZATION/-THE-ONE-OF-THEM-INC-  ...      3406878.0000\n",
              "4                /organization/0-6-com  ...      2000000.0000\n",
              "\n",
              "[5 rows x 6 columns]"
            ]
          },
          "metadata": {
            "tags": []
          },
          "execution_count": 10
        }
      ]
    },
    {
      "cell_type": "code",
      "metadata": {
        "id": "vDGnXxS3DzaN",
        "colab_type": "code",
        "colab": {
          "base_uri": "https://localhost:8080/",
          "height": 204
        },
        "outputId": "99492045-07cb-489e-dc23-17cd88f19023"
      },
      "source": [
        "#viewing the last 5 rows of data present in the rounds2 dataframe\n",
        "rounds2.tail()"
      ],
      "execution_count": null,
      "outputs": [
        {
          "output_type": "execute_result",
          "data": {
            "text/html": [
              "<div>\n",
              "<style scoped>\n",
              "    .dataframe tbody tr th:only-of-type {\n",
              "        vertical-align: middle;\n",
              "    }\n",
              "\n",
              "    .dataframe tbody tr th {\n",
              "        vertical-align: top;\n",
              "    }\n",
              "\n",
              "    .dataframe thead th {\n",
              "        text-align: right;\n",
              "    }\n",
              "</style>\n",
              "<table border=\"1\" class=\"dataframe\">\n",
              "  <thead>\n",
              "    <tr style=\"text-align: right;\">\n",
              "      <th></th>\n",
              "      <th>company_permalink</th>\n",
              "      <th>funding_round_permalink</th>\n",
              "      <th>funding_round_type</th>\n",
              "      <th>funding_round_code</th>\n",
              "      <th>funded_at</th>\n",
              "      <th>raised_amount_usd</th>\n",
              "    </tr>\n",
              "  </thead>\n",
              "  <tbody>\n",
              "    <tr>\n",
              "      <th>114944</th>\n",
              "      <td>/organization/zzzzapp-com</td>\n",
              "      <td>/funding-round/8f6d25b8ee4199e586484d817bceda05</td>\n",
              "      <td>convertible_note</td>\n",
              "      <td>NaN</td>\n",
              "      <td>01-03-2014</td>\n",
              "      <td>41313.0000</td>\n",
              "    </tr>\n",
              "    <tr>\n",
              "      <th>114945</th>\n",
              "      <td>/ORGANIZATION/ZZZZAPP-COM</td>\n",
              "      <td>/funding-round/ff1aa06ed5da186c84f101549035d4ae</td>\n",
              "      <td>seed</td>\n",
              "      <td>NaN</td>\n",
              "      <td>01-05-2013</td>\n",
              "      <td>32842.0000</td>\n",
              "    </tr>\n",
              "    <tr>\n",
              "      <th>114946</th>\n",
              "      <td>/organization/ãeron</td>\n",
              "      <td>/funding-round/59f4dce44723b794f21ded3daed6e4fe</td>\n",
              "      <td>venture</td>\n",
              "      <td>A</td>\n",
              "      <td>01-08-2014</td>\n",
              "      <td>nan</td>\n",
              "    </tr>\n",
              "    <tr>\n",
              "      <th>114947</th>\n",
              "      <td>/ORGANIZATION/ÃASYS-2</td>\n",
              "      <td>/funding-round/35f09d0794651719b02bbfd859ba9ff5</td>\n",
              "      <td>seed</td>\n",
              "      <td>NaN</td>\n",
              "      <td>01-01-2015</td>\n",
              "      <td>18192.0000</td>\n",
              "    </tr>\n",
              "    <tr>\n",
              "      <th>114948</th>\n",
              "      <td>/organization/ä°novatiff-reklam-ve-tanä±tä±m-h...</td>\n",
              "      <td>/funding-round/af942869878d2cd788ef5189b435ebc4</td>\n",
              "      <td>grant</td>\n",
              "      <td>NaN</td>\n",
              "      <td>01-10-2013</td>\n",
              "      <td>14851.0000</td>\n",
              "    </tr>\n",
              "  </tbody>\n",
              "</table>\n",
              "</div>"
            ],
            "text/plain": [
              "                                        company_permalink  ... raised_amount_usd\n",
              "114944                          /organization/zzzzapp-com  ...        41313.0000\n",
              "114945                          /ORGANIZATION/ZZZZAPP-COM  ...        32842.0000\n",
              "114946                               /organization/ãeron  ...               nan\n",
              "114947                             /ORGANIZATION/ÃASYS-2  ...        18192.0000\n",
              "114948  /organization/ä°novatiff-reklam-ve-tanä±tä±m-h...  ...        14851.0000\n",
              "\n",
              "[5 rows x 6 columns]"
            ]
          },
          "metadata": {
            "tags": []
          },
          "execution_count": 11
        }
      ]
    },
    {
      "cell_type": "code",
      "metadata": {
        "id": "sVCAs2oYZxU6",
        "colab_type": "code",
        "colab": {}
      },
      "source": [
        "#taking a copy of the original data frames\n",
        "company_df = companies.copy()\n",
        "rounds2_df = rounds2.copy()"
      ],
      "execution_count": null,
      "outputs": []
    },
    {
      "cell_type": "markdown",
      "metadata": {
        "id": "ZdL0c4t12OAI",
        "colab_type": "text"
      },
      "source": [
        "The analysis is divided into 6 checkpoints for covering all the aspects of the goals listed for enabling Sparks Funds to invest in the best posible country and sector within its investment margin\n",
        "\n",
        "Note: The checkpoint 6 (Plots) will be combined with other checkpoints as seemed fit"
      ]
    },
    {
      "cell_type": "markdown",
      "metadata": {
        "id": "4KcGs3elMusI",
        "colab_type": "text"
      },
      "source": [
        "##**Checkpoint 1**: Data Understanding and cleaning\n",
        "---\n",
        "\n",
        "\n",
        "\n"
      ]
    },
    {
      "cell_type": "code",
      "metadata": {
        "id": "LSzxd6iNZVsS",
        "colab_type": "code",
        "colab": {}
      },
      "source": [
        "#Ensuring the columns to merge the data frames are consistent\n",
        "#coverting the the primary/unique keys to lower case\n",
        "companies['permalink'] = companies.permalink.str.lower()\n",
        "rounds2['company_permalink'] = rounds2.company_permalink.str.lower()\n",
        "\n",
        "#stripping the whitespaces if present\n",
        "companies['permalink'] = companies.permalink.str.strip()\n",
        "rounds2['company_permalink'] = rounds2.company_permalink.str.strip()\n",
        "\n",
        "#removing the spl characters\n",
        "companies['permalink'] = companies['permalink'].str.replace(r'[^A-Za-z0-9\\-\\/]+', \"\")\n",
        "companies['name'] = companies['name'].str.replace(r\"[^A-za-z0-9\\-\\/\\.' ']+\",\"\")\n",
        "rounds2['company_permalink'] = rounds2['company_permalink'].str.replace(r'[^A-Za-z0-9\\-\\/]+',\"\")"
      ],
      "execution_count": null,
      "outputs": []
    },
    {
      "cell_type": "code",
      "metadata": {
        "id": "_jKSf6liJckk",
        "colab_type": "code",
        "colab": {
          "base_uri": "https://localhost:8080/",
          "height": 136
        },
        "outputId": "526f9c29-fa88-4cf7-fcfa-6f4e36f5d6a5"
      },
      "source": [
        "#checking for null values\n",
        "print(\"Number of null values present in the column permalink in companies df:\",companies.permalink.isnull().sum())\n",
        "print(\"Number of null values present in the column company_permalink in rounds2 df:\",rounds2.company_permalink.isnull().sum())\n",
        "\n",
        "#checking if rounds2 df contains any extra permalink present in it\n",
        "c = companies.permalink.unique()\n",
        "r = rounds2.company_permalink.unique()\n",
        "print(\"\\nUnique companies present in the comapnies df:\",companies.permalink.nunique())\n",
        "print(\"Unique companies present in the rounds2 df:\", rounds2.company_permalink.nunique())\n",
        "print(\"\\nCompanies in the rounds2 file which are not  present in companies:\", np.setdiff1d(r,c))"
      ],
      "execution_count": null,
      "outputs": [
        {
          "output_type": "stream",
          "text": [
            "Number of null values present in the column permalink in companies df: 0\n",
            "Number of null values present in the column company_permalink in rounds2 df: 0\n",
            "\n",
            "Unique companies present in the comapnies df: 66368\n",
            "Unique companies present in the rounds2 df: 66368\n",
            "\n",
            "Companies in the rounds2 file which are not  present in companies: []\n"
          ],
          "name": "stdout"
        }
      ]
    },
    {
      "cell_type": "code",
      "metadata": {
        "id": "hy1WA0Pz2zzq",
        "colab_type": "code",
        "colab": {
          "base_uri": "https://localhost:8080/",
          "height": 51
        },
        "outputId": "45208a34-62f1-4bae-c91c-05256401082d"
      },
      "source": [
        "#checking if any rows are duplicated\n",
        "print(\"Number of rows duplicated in companies df:\",len(companies[companies.duplicated()]))\n",
        "print(\"Number of rows duplicated in rounds2 df:\",len(rounds2[rounds2.duplicated()]))"
      ],
      "execution_count": null,
      "outputs": [
        {
          "output_type": "stream",
          "text": [
            "Number of rows duplicated in companies df: 0\n",
            "Number of rows duplicated in rounds2 df: 0\n"
          ],
          "name": "stdout"
        }
      ]
    },
    {
      "cell_type": "code",
      "metadata": {
        "id": "ASIw9vx3Zm_V",
        "colab_type": "code",
        "colab": {
          "base_uri": "https://localhost:8080/",
          "height": 34
        },
        "outputId": "c5d01772-e866-432d-a60c-be1b956b8973"
      },
      "source": [
        "#renaming the column before the merge\n",
        "companies = companies.rename(columns={'permalink':'company_permalink'})\n",
        "\n",
        "master_frame = rounds2.merge(companies,how='inner',on='company_permalink')\n",
        "\n",
        "#verifying the shape of the merged df\n",
        "print(\"Shape of the master_frame:\",master_frame.shape)"
      ],
      "execution_count": null,
      "outputs": [
        {
          "output_type": "stream",
          "text": [
            "Shape of the master_frame: (114949, 15)\n"
          ],
          "name": "stdout"
        }
      ]
    },
    {
      "cell_type": "code",
      "metadata": {
        "id": "EtSjoznyLBci",
        "colab_type": "code",
        "colab": {
          "base_uri": "https://localhost:8080/",
          "height": 34
        },
        "outputId": "9f6fc147-7f8c-42f6-93c1-82dd58761a0c"
      },
      "source": [
        "print(\"Number of observations found in master_frame after the merge:\",master_frame.shape[0])"
      ],
      "execution_count": null,
      "outputs": [
        {
          "output_type": "stream",
          "text": [
            "Number of observations found in master_frame after the merge: 114949\n"
          ],
          "name": "stdout"
        }
      ]
    },
    {
      "cell_type": "code",
      "metadata": {
        "id": "yCBCuZSICD_k",
        "colab_type": "code",
        "colab": {
          "base_uri": "https://localhost:8080/",
          "height": 34
        },
        "outputId": "5aea3c8d-c0a5-47e8-9322-8d38427f789d"
      },
      "source": [
        "#verifying the unique count of company_permalink again\n",
        "print(master_frame.company_permalink.nunique())"
      ],
      "execution_count": null,
      "outputs": [
        {
          "output_type": "stream",
          "text": [
            "66368\n"
          ],
          "name": "stdout"
        }
      ]
    },
    {
      "cell_type": "code",
      "metadata": {
        "id": "mWd2eP--Lbkg",
        "colab_type": "code",
        "colab": {
          "base_uri": "https://localhost:8080/",
          "height": 411
        },
        "outputId": "048f2ffd-452f-4acb-8ded-b76f8256c6ed"
      },
      "source": [
        "#viewing a sample of data from the merged df\n",
        "master_frame.tail()"
      ],
      "execution_count": null,
      "outputs": [
        {
          "output_type": "execute_result",
          "data": {
            "text/html": [
              "<div>\n",
              "<style scoped>\n",
              "    .dataframe tbody tr th:only-of-type {\n",
              "        vertical-align: middle;\n",
              "    }\n",
              "\n",
              "    .dataframe tbody tr th {\n",
              "        vertical-align: top;\n",
              "    }\n",
              "\n",
              "    .dataframe thead th {\n",
              "        text-align: right;\n",
              "    }\n",
              "</style>\n",
              "<table border=\"1\" class=\"dataframe\">\n",
              "  <thead>\n",
              "    <tr style=\"text-align: right;\">\n",
              "      <th></th>\n",
              "      <th>company_permalink</th>\n",
              "      <th>funding_round_permalink</th>\n",
              "      <th>funding_round_type</th>\n",
              "      <th>funding_round_code</th>\n",
              "      <th>funded_at</th>\n",
              "      <th>raised_amount_usd</th>\n",
              "      <th>name</th>\n",
              "      <th>homepage_url</th>\n",
              "      <th>category_list</th>\n",
              "      <th>status</th>\n",
              "      <th>country_code</th>\n",
              "      <th>state_code</th>\n",
              "      <th>region</th>\n",
              "      <th>city</th>\n",
              "      <th>founded_at</th>\n",
              "    </tr>\n",
              "  </thead>\n",
              "  <tbody>\n",
              "    <tr>\n",
              "      <th>114944</th>\n",
              "      <td>/organization/zzzzapp-com</td>\n",
              "      <td>/funding-round/8f6d25b8ee4199e586484d817bceda05</td>\n",
              "      <td>convertible_note</td>\n",
              "      <td>NaN</td>\n",
              "      <td>01-03-2014</td>\n",
              "      <td>41313.0000</td>\n",
              "      <td>Zzzzapp Wireless ltd.</td>\n",
              "      <td>http://www.zzzzapp.com</td>\n",
              "      <td>Advertising|Mobile|Web Development|Wireless</td>\n",
              "      <td>operating</td>\n",
              "      <td>HRV</td>\n",
              "      <td>15</td>\n",
              "      <td>Split</td>\n",
              "      <td>Split</td>\n",
              "      <td>13-05-2012</td>\n",
              "    </tr>\n",
              "    <tr>\n",
              "      <th>114945</th>\n",
              "      <td>/organization/zzzzapp-com</td>\n",
              "      <td>/funding-round/ff1aa06ed5da186c84f101549035d4ae</td>\n",
              "      <td>seed</td>\n",
              "      <td>NaN</td>\n",
              "      <td>01-05-2013</td>\n",
              "      <td>32842.0000</td>\n",
              "      <td>Zzzzapp Wireless ltd.</td>\n",
              "      <td>http://www.zzzzapp.com</td>\n",
              "      <td>Advertising|Mobile|Web Development|Wireless</td>\n",
              "      <td>operating</td>\n",
              "      <td>HRV</td>\n",
              "      <td>15</td>\n",
              "      <td>Split</td>\n",
              "      <td>Split</td>\n",
              "      <td>13-05-2012</td>\n",
              "    </tr>\n",
              "    <tr>\n",
              "      <th>114946</th>\n",
              "      <td>/organization/eron</td>\n",
              "      <td>/funding-round/59f4dce44723b794f21ded3daed6e4fe</td>\n",
              "      <td>venture</td>\n",
              "      <td>A</td>\n",
              "      <td>01-08-2014</td>\n",
              "      <td>nan</td>\n",
              "      <td>ERON</td>\n",
              "      <td>http://www.aeron.hu/</td>\n",
              "      <td>NaN</td>\n",
              "      <td>operating</td>\n",
              "      <td>NaN</td>\n",
              "      <td>NaN</td>\n",
              "      <td>NaN</td>\n",
              "      <td>NaN</td>\n",
              "      <td>01-01-2011</td>\n",
              "    </tr>\n",
              "    <tr>\n",
              "      <th>114947</th>\n",
              "      <td>/organization/asys-2</td>\n",
              "      <td>/funding-round/35f09d0794651719b02bbfd859ba9ff5</td>\n",
              "      <td>seed</td>\n",
              "      <td>NaN</td>\n",
              "      <td>01-01-2015</td>\n",
              "      <td>18192.0000</td>\n",
              "      <td>asys</td>\n",
              "      <td>http://www.oasys.io/</td>\n",
              "      <td>Consumer Electronics|Internet of Things|Teleco...</td>\n",
              "      <td>operating</td>\n",
              "      <td>USA</td>\n",
              "      <td>CA</td>\n",
              "      <td>SF Bay Area</td>\n",
              "      <td>San Francisco</td>\n",
              "      <td>01-01-2014</td>\n",
              "    </tr>\n",
              "    <tr>\n",
              "      <th>114948</th>\n",
              "      <td>/organization/novatiff-reklam-ve-tantm-hizmetl...</td>\n",
              "      <td>/funding-round/af942869878d2cd788ef5189b435ebc4</td>\n",
              "      <td>grant</td>\n",
              "      <td>NaN</td>\n",
              "      <td>01-10-2013</td>\n",
              "      <td>14851.0000</td>\n",
              "      <td>novatiff Reklam ve Tantm Hizmetleri Tic</td>\n",
              "      <td>http://inovatiff.com</td>\n",
              "      <td>Consumer Goods|E-Commerce|Internet</td>\n",
              "      <td>operating</td>\n",
              "      <td>NaN</td>\n",
              "      <td>NaN</td>\n",
              "      <td>NaN</td>\n",
              "      <td>NaN</td>\n",
              "      <td>NaN</td>\n",
              "    </tr>\n",
              "  </tbody>\n",
              "</table>\n",
              "</div>"
            ],
            "text/plain": [
              "                                        company_permalink  ...  founded_at\n",
              "114944                          /organization/zzzzapp-com  ...  13-05-2012\n",
              "114945                          /organization/zzzzapp-com  ...  13-05-2012\n",
              "114946                                 /organization/eron  ...  01-01-2011\n",
              "114947                               /organization/asys-2  ...  01-01-2014\n",
              "114948  /organization/novatiff-reklam-ve-tantm-hizmetl...  ...         NaN\n",
              "\n",
              "[5 rows x 15 columns]"
            ]
          },
          "metadata": {
            "tags": []
          },
          "execution_count": 19
        }
      ]
    },
    {
      "cell_type": "markdown",
      "metadata": {
        "id": "PYPJbQ8nM7BS",
        "colab_type": "text"
      },
      "source": [
        "##**Checkpoint 2: Funding Type Analysis**\n",
        "\n",
        "---\n",
        "Spark Funds wants to choose one of the four investment types stated below for each potential investment they will make\n",
        "1.   angel\n",
        "2.   seed\n",
        "3.   venture\n",
        "4.   private equity\n"
      ]
    },
    {
      "cell_type": "code",
      "metadata": {
        "id": "cOgvUUMALvl7",
        "colab_type": "code",
        "colab": {
          "base_uri": "https://localhost:8080/",
          "height": 411
        },
        "outputId": "7c3e610c-2286-40bb-b679-a7976e5aa4b2"
      },
      "source": [
        "#continuing the data cleaning process...\n",
        "#collecting the data that focuses on the funding_type Sparks Funds are intersrested in \n",
        "investment = master_frame['funding_round_type'].isin(['venture','angel','seed','private_equity'])\n",
        "\n",
        "master_frame = master_frame[investment]\n",
        "\n",
        "#viewing the shape of the filtered dataframe\n",
        "print(\"Shape of the filtered dataframe is:\", master_frame.shape)\n",
        "#viewing the samples from the filtered dataframe\n",
        "master_frame.head()"
      ],
      "execution_count": null,
      "outputs": [
        {
          "output_type": "stream",
          "text": [
            "Shape of the filtered dataframe is: (94397, 15)\n"
          ],
          "name": "stdout"
        },
        {
          "output_type": "execute_result",
          "data": {
            "text/html": [
              "<div>\n",
              "<style scoped>\n",
              "    .dataframe tbody tr th:only-of-type {\n",
              "        vertical-align: middle;\n",
              "    }\n",
              "\n",
              "    .dataframe tbody tr th {\n",
              "        vertical-align: top;\n",
              "    }\n",
              "\n",
              "    .dataframe thead th {\n",
              "        text-align: right;\n",
              "    }\n",
              "</style>\n",
              "<table border=\"1\" class=\"dataframe\">\n",
              "  <thead>\n",
              "    <tr style=\"text-align: right;\">\n",
              "      <th></th>\n",
              "      <th>company_permalink</th>\n",
              "      <th>funding_round_permalink</th>\n",
              "      <th>funding_round_type</th>\n",
              "      <th>funding_round_code</th>\n",
              "      <th>funded_at</th>\n",
              "      <th>raised_amount_usd</th>\n",
              "      <th>name</th>\n",
              "      <th>homepage_url</th>\n",
              "      <th>category_list</th>\n",
              "      <th>status</th>\n",
              "      <th>country_code</th>\n",
              "      <th>state_code</th>\n",
              "      <th>region</th>\n",
              "      <th>city</th>\n",
              "      <th>founded_at</th>\n",
              "    </tr>\n",
              "  </thead>\n",
              "  <tbody>\n",
              "    <tr>\n",
              "      <th>0</th>\n",
              "      <td>/organization/-fame</td>\n",
              "      <td>/funding-round/9a01d05418af9f794eebff7ace91f638</td>\n",
              "      <td>venture</td>\n",
              "      <td>B</td>\n",
              "      <td>05-01-2015</td>\n",
              "      <td>10000000.0000</td>\n",
              "      <td>fame</td>\n",
              "      <td>http://livfame.com</td>\n",
              "      <td>Media</td>\n",
              "      <td>operating</td>\n",
              "      <td>IND</td>\n",
              "      <td>16</td>\n",
              "      <td>Mumbai</td>\n",
              "      <td>Mumbai</td>\n",
              "      <td>NaN</td>\n",
              "    </tr>\n",
              "    <tr>\n",
              "      <th>1</th>\n",
              "      <td>/organization/-qounter</td>\n",
              "      <td>/funding-round/22dacff496eb7acb2b901dec1dfe5633</td>\n",
              "      <td>venture</td>\n",
              "      <td>A</td>\n",
              "      <td>14-10-2014</td>\n",
              "      <td>nan</td>\n",
              "      <td>Qounter</td>\n",
              "      <td>http://www.qounter.com</td>\n",
              "      <td>Application Platforms|Real Time|Social Network...</td>\n",
              "      <td>operating</td>\n",
              "      <td>USA</td>\n",
              "      <td>DE</td>\n",
              "      <td>DE - Other</td>\n",
              "      <td>Delaware City</td>\n",
              "      <td>04-09-2014</td>\n",
              "    </tr>\n",
              "    <tr>\n",
              "      <th>2</th>\n",
              "      <td>/organization/-qounter</td>\n",
              "      <td>/funding-round/b44fbb94153f6cdef13083530bb48030</td>\n",
              "      <td>seed</td>\n",
              "      <td>NaN</td>\n",
              "      <td>01-03-2014</td>\n",
              "      <td>700000.0000</td>\n",
              "      <td>Qounter</td>\n",
              "      <td>http://www.qounter.com</td>\n",
              "      <td>Application Platforms|Real Time|Social Network...</td>\n",
              "      <td>operating</td>\n",
              "      <td>USA</td>\n",
              "      <td>DE</td>\n",
              "      <td>DE - Other</td>\n",
              "      <td>Delaware City</td>\n",
              "      <td>04-09-2014</td>\n",
              "    </tr>\n",
              "    <tr>\n",
              "      <th>3</th>\n",
              "      <td>/organization/-the-one-of-them-inc-</td>\n",
              "      <td>/funding-round/650b8f704416801069bb178a1418776b</td>\n",
              "      <td>venture</td>\n",
              "      <td>B</td>\n",
              "      <td>30-01-2014</td>\n",
              "      <td>3406878.0000</td>\n",
              "      <td>THE ONE of THEMInc.</td>\n",
              "      <td>http://oneofthem.jp</td>\n",
              "      <td>Apps|Games|Mobile</td>\n",
              "      <td>operating</td>\n",
              "      <td>NaN</td>\n",
              "      <td>NaN</td>\n",
              "      <td>NaN</td>\n",
              "      <td>NaN</td>\n",
              "      <td>NaN</td>\n",
              "    </tr>\n",
              "    <tr>\n",
              "      <th>4</th>\n",
              "      <td>/organization/0-6-com</td>\n",
              "      <td>/funding-round/5727accaeaa57461bd22a9bdd945382d</td>\n",
              "      <td>venture</td>\n",
              "      <td>A</td>\n",
              "      <td>19-03-2008</td>\n",
              "      <td>2000000.0000</td>\n",
              "      <td>0-6.com</td>\n",
              "      <td>http://www.0-6.com</td>\n",
              "      <td>Curated Web</td>\n",
              "      <td>operating</td>\n",
              "      <td>CHN</td>\n",
              "      <td>22</td>\n",
              "      <td>Beijing</td>\n",
              "      <td>Beijing</td>\n",
              "      <td>01-01-2007</td>\n",
              "    </tr>\n",
              "  </tbody>\n",
              "</table>\n",
              "</div>"
            ],
            "text/plain": [
              "                     company_permalink  ...  founded_at\n",
              "0                  /organization/-fame  ...         NaN\n",
              "1               /organization/-qounter  ...  04-09-2014\n",
              "2               /organization/-qounter  ...  04-09-2014\n",
              "3  /organization/-the-one-of-them-inc-  ...         NaN\n",
              "4                /organization/0-6-com  ...  01-01-2007\n",
              "\n",
              "[5 rows x 15 columns]"
            ]
          },
          "metadata": {
            "tags": []
          },
          "execution_count": 20
        }
      ]
    },
    {
      "cell_type": "code",
      "metadata": {
        "id": "Nnp53ksdPj61",
        "colab_type": "code",
        "colab": {
          "base_uri": "https://localhost:8080/",
          "height": 102
        },
        "outputId": "7f6d0ecb-dd3e-4e29-9cf7-395492d2685b"
      },
      "source": [
        "#checking the various operational status of the companies listed in the dataframe\n",
        "master_frame.status.value_counts()"
      ],
      "execution_count": null,
      "outputs": [
        {
          "output_type": "execute_result",
          "data": {
            "text/plain": [
              "operating    73653\n",
              "acquired     10229\n",
              "closed        7553\n",
              "ipo           2962\n",
              "Name: status, dtype: int64"
            ]
          },
          "metadata": {
            "tags": []
          },
          "execution_count": 21
        }
      ]
    },
    {
      "cell_type": "code",
      "metadata": {
        "id": "pYg-Q62APHzD",
        "colab_type": "code",
        "colab": {
          "base_uri": "https://localhost:8080/",
          "height": 411
        },
        "outputId": "56ed7118-fdc4-4547-e8cd-0178c3b7db21"
      },
      "source": [
        "#eliminating the companies that are no longer operational\n",
        "operating = ~master_frame['status'].isin(['closed'])\n",
        "\n",
        "master_frame = master_frame[operating]\n",
        "\n",
        "print(\"Shape of the dataframe after filtering the operational status:\", master_frame.shape)\n",
        "master_frame.head()"
      ],
      "execution_count": null,
      "outputs": [
        {
          "output_type": "stream",
          "text": [
            "Shape of the dataframe after filtering the operational status: (86844, 15)\n"
          ],
          "name": "stdout"
        },
        {
          "output_type": "execute_result",
          "data": {
            "text/html": [
              "<div>\n",
              "<style scoped>\n",
              "    .dataframe tbody tr th:only-of-type {\n",
              "        vertical-align: middle;\n",
              "    }\n",
              "\n",
              "    .dataframe tbody tr th {\n",
              "        vertical-align: top;\n",
              "    }\n",
              "\n",
              "    .dataframe thead th {\n",
              "        text-align: right;\n",
              "    }\n",
              "</style>\n",
              "<table border=\"1\" class=\"dataframe\">\n",
              "  <thead>\n",
              "    <tr style=\"text-align: right;\">\n",
              "      <th></th>\n",
              "      <th>company_permalink</th>\n",
              "      <th>funding_round_permalink</th>\n",
              "      <th>funding_round_type</th>\n",
              "      <th>funding_round_code</th>\n",
              "      <th>funded_at</th>\n",
              "      <th>raised_amount_usd</th>\n",
              "      <th>name</th>\n",
              "      <th>homepage_url</th>\n",
              "      <th>category_list</th>\n",
              "      <th>status</th>\n",
              "      <th>country_code</th>\n",
              "      <th>state_code</th>\n",
              "      <th>region</th>\n",
              "      <th>city</th>\n",
              "      <th>founded_at</th>\n",
              "    </tr>\n",
              "  </thead>\n",
              "  <tbody>\n",
              "    <tr>\n",
              "      <th>0</th>\n",
              "      <td>/organization/-fame</td>\n",
              "      <td>/funding-round/9a01d05418af9f794eebff7ace91f638</td>\n",
              "      <td>venture</td>\n",
              "      <td>B</td>\n",
              "      <td>05-01-2015</td>\n",
              "      <td>10000000.0000</td>\n",
              "      <td>fame</td>\n",
              "      <td>http://livfame.com</td>\n",
              "      <td>Media</td>\n",
              "      <td>operating</td>\n",
              "      <td>IND</td>\n",
              "      <td>16</td>\n",
              "      <td>Mumbai</td>\n",
              "      <td>Mumbai</td>\n",
              "      <td>NaN</td>\n",
              "    </tr>\n",
              "    <tr>\n",
              "      <th>1</th>\n",
              "      <td>/organization/-qounter</td>\n",
              "      <td>/funding-round/22dacff496eb7acb2b901dec1dfe5633</td>\n",
              "      <td>venture</td>\n",
              "      <td>A</td>\n",
              "      <td>14-10-2014</td>\n",
              "      <td>nan</td>\n",
              "      <td>Qounter</td>\n",
              "      <td>http://www.qounter.com</td>\n",
              "      <td>Application Platforms|Real Time|Social Network...</td>\n",
              "      <td>operating</td>\n",
              "      <td>USA</td>\n",
              "      <td>DE</td>\n",
              "      <td>DE - Other</td>\n",
              "      <td>Delaware City</td>\n",
              "      <td>04-09-2014</td>\n",
              "    </tr>\n",
              "    <tr>\n",
              "      <th>2</th>\n",
              "      <td>/organization/-qounter</td>\n",
              "      <td>/funding-round/b44fbb94153f6cdef13083530bb48030</td>\n",
              "      <td>seed</td>\n",
              "      <td>NaN</td>\n",
              "      <td>01-03-2014</td>\n",
              "      <td>700000.0000</td>\n",
              "      <td>Qounter</td>\n",
              "      <td>http://www.qounter.com</td>\n",
              "      <td>Application Platforms|Real Time|Social Network...</td>\n",
              "      <td>operating</td>\n",
              "      <td>USA</td>\n",
              "      <td>DE</td>\n",
              "      <td>DE - Other</td>\n",
              "      <td>Delaware City</td>\n",
              "      <td>04-09-2014</td>\n",
              "    </tr>\n",
              "    <tr>\n",
              "      <th>3</th>\n",
              "      <td>/organization/-the-one-of-them-inc-</td>\n",
              "      <td>/funding-round/650b8f704416801069bb178a1418776b</td>\n",
              "      <td>venture</td>\n",
              "      <td>B</td>\n",
              "      <td>30-01-2014</td>\n",
              "      <td>3406878.0000</td>\n",
              "      <td>THE ONE of THEMInc.</td>\n",
              "      <td>http://oneofthem.jp</td>\n",
              "      <td>Apps|Games|Mobile</td>\n",
              "      <td>operating</td>\n",
              "      <td>NaN</td>\n",
              "      <td>NaN</td>\n",
              "      <td>NaN</td>\n",
              "      <td>NaN</td>\n",
              "      <td>NaN</td>\n",
              "    </tr>\n",
              "    <tr>\n",
              "      <th>4</th>\n",
              "      <td>/organization/0-6-com</td>\n",
              "      <td>/funding-round/5727accaeaa57461bd22a9bdd945382d</td>\n",
              "      <td>venture</td>\n",
              "      <td>A</td>\n",
              "      <td>19-03-2008</td>\n",
              "      <td>2000000.0000</td>\n",
              "      <td>0-6.com</td>\n",
              "      <td>http://www.0-6.com</td>\n",
              "      <td>Curated Web</td>\n",
              "      <td>operating</td>\n",
              "      <td>CHN</td>\n",
              "      <td>22</td>\n",
              "      <td>Beijing</td>\n",
              "      <td>Beijing</td>\n",
              "      <td>01-01-2007</td>\n",
              "    </tr>\n",
              "  </tbody>\n",
              "</table>\n",
              "</div>"
            ],
            "text/plain": [
              "                     company_permalink  ...  founded_at\n",
              "0                  /organization/-fame  ...         NaN\n",
              "1               /organization/-qounter  ...  04-09-2014\n",
              "2               /organization/-qounter  ...  04-09-2014\n",
              "3  /organization/-the-one-of-them-inc-  ...         NaN\n",
              "4                /organization/0-6-com  ...  01-01-2007\n",
              "\n",
              "[5 rows x 15 columns]"
            ]
          },
          "metadata": {
            "tags": []
          },
          "execution_count": 22
        }
      ]
    },
    {
      "cell_type": "code",
      "metadata": {
        "id": "UZtMbAS9S5AF",
        "colab_type": "code",
        "colab": {
          "base_uri": "https://localhost:8080/",
          "height": 85
        },
        "outputId": "c22d4261-09b0-4222-d8b0-b2739cccb467"
      },
      "source": [
        "#checking the operational status to verify if the \"closed\" status is eliminated\n",
        "master_frame.status.value_counts()"
      ],
      "execution_count": null,
      "outputs": [
        {
          "output_type": "execute_result",
          "data": {
            "text/plain": [
              "operating    73653\n",
              "acquired     10229\n",
              "ipo           2962\n",
              "Name: status, dtype: int64"
            ]
          },
          "metadata": {
            "tags": []
          },
          "execution_count": 23
        }
      ]
    },
    {
      "cell_type": "code",
      "metadata": {
        "id": "RD_1tlq3L9I3",
        "colab_type": "code",
        "colab": {
          "base_uri": "https://localhost:8080/",
          "height": 34
        },
        "outputId": "f5b62fae-135e-469b-96a9-53469600f7de"
      },
      "source": [
        "#checking how many rows have all missing values\n",
        "master_frame.isnull().all(axis=1).sum()"
      ],
      "execution_count": null,
      "outputs": [
        {
          "output_type": "execute_result",
          "data": {
            "text/plain": [
              "0"
            ]
          },
          "metadata": {
            "tags": []
          },
          "execution_count": 24
        }
      ]
    },
    {
      "cell_type": "code",
      "metadata": {
        "id": "KN3SgK4NOMku",
        "colab_type": "code",
        "colab": {
          "base_uri": "https://localhost:8080/",
          "height": 289
        },
        "outputId": "c1eb8fac-ced1-43d3-ce7d-7bbab8c947b8"
      },
      "source": [
        "#checking for null items as per the columns\n",
        "master_frame.isnull().sum()/len(master_frame.index)"
      ],
      "execution_count": null,
      "outputs": [
        {
          "output_type": "execute_result",
          "data": {
            "text/plain": [
              "company_permalink         0.0000\n",
              "funding_round_permalink   0.0000\n",
              "funding_round_type        0.0000\n",
              "funding_round_code        0.6668\n",
              "funded_at                 0.0000\n",
              "raised_amount_usd         0.1421\n",
              "name                      0.0000\n",
              "homepage_url              0.0399\n",
              "category_list             0.0187\n",
              "status                    0.0000\n",
              "country_code              0.0660\n",
              "state_code                0.0869\n",
              "region                    0.0791\n",
              "city                      0.0790\n",
              "founded_at                0.1658\n",
              "dtype: float64"
            ]
          },
          "metadata": {
            "tags": []
          },
          "execution_count": 25
        }
      ]
    },
    {
      "cell_type": "code",
      "metadata": {
        "id": "atzUBQzDZjkt",
        "colab_type": "code",
        "colab": {}
      },
      "source": [
        "#Dropping the columns that do not contribute much to our current analysis, we get:\n",
        "master_frame = master_frame.drop(columns=['homepage_url','state_code','region','city','founded_at'])"
      ],
      "execution_count": null,
      "outputs": []
    },
    {
      "cell_type": "code",
      "metadata": {
        "id": "Ttl_PwkTlgKj",
        "colab_type": "code",
        "colab": {
          "base_uri": "https://localhost:8080/",
          "height": 221
        },
        "outputId": "cfc31777-a281-4576-8f34-dbec3eefefb8"
      },
      "source": [
        "print(\"Shape of the dataframe post the coloumn drop:\",master_frame.shape)\n",
        "#checking for the null values\n",
        "master_frame.isnull().sum()/len(master_frame.index)"
      ],
      "execution_count": null,
      "outputs": [
        {
          "output_type": "stream",
          "text": [
            "Shape of the dataframe post the coloumn drop: (86844, 10)\n"
          ],
          "name": "stdout"
        },
        {
          "output_type": "execute_result",
          "data": {
            "text/plain": [
              "company_permalink         0.0000\n",
              "funding_round_permalink   0.0000\n",
              "funding_round_type        0.0000\n",
              "funding_round_code        0.6668\n",
              "funded_at                 0.0000\n",
              "raised_amount_usd         0.1421\n",
              "name                      0.0000\n",
              "category_list             0.0187\n",
              "status                    0.0000\n",
              "country_code              0.0660\n",
              "dtype: float64"
            ]
          },
          "metadata": {
            "tags": []
          },
          "execution_count": 27
        }
      ]
    },
    {
      "cell_type": "code",
      "metadata": {
        "id": "Uvt6cZTg3SlP",
        "colab_type": "code",
        "colab": {
          "base_uri": "https://localhost:8080/",
          "height": 170
        },
        "outputId": "590dc872-a273-46e1-b797-a54a8a0809ea"
      },
      "source": [
        "#dealing with the column 'raised_amount_usd'\n",
        "#describing the raised_amount_usd column\n",
        "master_frame.raised_amount_usd.describe()"
      ],
      "execution_count": null,
      "outputs": [
        {
          "output_type": "execute_result",
          "data": {
            "text/plain": [
              "count         74501.0000\n",
              "mean        9551480.9437\n",
              "std        78406517.4354\n",
              "min               0.0000\n",
              "25%          435000.0000\n",
              "50%         2000000.0000\n",
              "75%         8000000.0000\n",
              "max     17600000000.0000\n",
              "Name: raised_amount_usd, dtype: float64"
            ]
          },
          "metadata": {
            "tags": []
          },
          "execution_count": 28
        }
      ]
    },
    {
      "cell_type": "code",
      "metadata": {
        "id": "jn_AKLsa3iCK",
        "colab_type": "code",
        "colab": {
          "base_uri": "https://localhost:8080/",
          "height": 221
        },
        "outputId": "aa7c7230-faf1-4118-d914-38bd93df6491"
      },
      "source": [
        "#eliminating the rows that has the investment amount as 0\n",
        "#retaining all the other values since the country and sectors with the highest investment amount needs be calculated.\n",
        "master_frame = master_frame[master_frame.raised_amount_usd!=0]\n",
        "\n",
        "print(\"Shape of the dataframe after eliminating the 0 investment amount:\", master_frame.shape)\n",
        "master_frame.isnull().sum()/len(master_frame.index)"
      ],
      "execution_count": null,
      "outputs": [
        {
          "output_type": "stream",
          "text": [
            "Shape of the dataframe after eliminating the 0 investment amount: (86691, 10)\n"
          ],
          "name": "stdout"
        },
        {
          "output_type": "execute_result",
          "data": {
            "text/plain": [
              "company_permalink         0.0000\n",
              "funding_round_permalink   0.0000\n",
              "funding_round_type        0.0000\n",
              "funding_round_code        0.6664\n",
              "funded_at                 0.0000\n",
              "raised_amount_usd         0.1424\n",
              "name                      0.0000\n",
              "category_list             0.0186\n",
              "status                    0.0000\n",
              "country_code              0.0658\n",
              "dtype: float64"
            ]
          },
          "metadata": {
            "tags": []
          },
          "execution_count": 29
        }
      ]
    },
    {
      "cell_type": "code",
      "metadata": {
        "id": "Kjob9FNxWHf7",
        "colab_type": "code",
        "colab": {
          "base_uri": "https://localhost:8080/",
          "height": 34
        },
        "outputId": "7542c18b-7096-4239-89ea-60506ce223c8"
      },
      "source": [
        "#The columns raised_amount_usd, category_list and country_code are needed to determine the best sector and country. \n",
        "#These columns contain 14%, 2% and 7% of null values respectively, dropping the NaN values we get:\n",
        "\n",
        "master_frame.dropna(subset=['raised_amount_usd','category_list','country_code'],inplace=True)\n",
        "print(\"Shape of the dataframe post dropping the NaN values:\", master_frame.shape)"
      ],
      "execution_count": null,
      "outputs": [
        {
          "output_type": "stream",
          "text": [
            "Shape of the dataframe post dropping the NaN values: (70043, 10)\n"
          ],
          "name": "stdout"
        }
      ]
    },
    {
      "cell_type": "code",
      "metadata": {
        "id": "6vJdfAGldDgM",
        "colab_type": "code",
        "colab": {
          "base_uri": "https://localhost:8080/",
          "height": 204
        },
        "outputId": "67533dec-4be3-46ff-cb6c-c6891a1103ec"
      },
      "source": [
        "#checking for null items\n",
        "master_frame.isnull().sum()/len(master_frame.index)"
      ],
      "execution_count": null,
      "outputs": [
        {
          "output_type": "execute_result",
          "data": {
            "text/plain": [
              "company_permalink         0.0000\n",
              "funding_round_permalink   0.0000\n",
              "funding_round_type        0.0000\n",
              "funding_round_code        0.6421\n",
              "funded_at                 0.0000\n",
              "raised_amount_usd         0.0000\n",
              "name                      0.0000\n",
              "category_list             0.0000\n",
              "status                    0.0000\n",
              "country_code              0.0000\n",
              "dtype: float64"
            ]
          },
          "metadata": {
            "tags": []
          },
          "execution_count": 31
        }
      ]
    },
    {
      "cell_type": "markdown",
      "metadata": {
        "id": "JwmokszdXz9T",
        "colab_type": "text"
      },
      "source": [
        "The column funding_round_code contains the majority of null values(64%).Since this column is of type 'object', it can be imputed with the most occuring finding_round_code value for each of the funding_round_type"
      ]
    },
    {
      "cell_type": "code",
      "metadata": {
        "id": "kHXgsy0ZWfb3",
        "colab_type": "code",
        "colab": {
          "base_uri": "https://localhost:8080/",
          "height": 306
        },
        "outputId": "7bd69349-5d37-47d6-96c1-27f6a0ba0413"
      },
      "source": [
        "#checking for the most common occuring funding round code for each funding type\n",
        "master_frame.groupby(['funding_round_type','funding_round_code'])['raised_amount_usd'].count()"
      ],
      "execution_count": null,
      "outputs": [
        {
          "output_type": "execute_result",
          "data": {
            "text/plain": [
              "funding_round_type  funding_round_code\n",
              "angel               A                        16\n",
              "private_equity      A                         2\n",
              "                    C                         1\n",
              "                    H                         1\n",
              "seed                A                        71\n",
              "                    B                         8\n",
              "                    C                         1\n",
              "venture             A                     11130\n",
              "                    B                      7191\n",
              "                    C                      3813\n",
              "                    D                      1769\n",
              "                    E                       738\n",
              "                    F                       247\n",
              "                    G                        67\n",
              "                    H                        10\n",
              "Name: raised_amount_usd, dtype: int64"
            ]
          },
          "metadata": {
            "tags": []
          },
          "execution_count": 32
        }
      ]
    },
    {
      "cell_type": "code",
      "metadata": {
        "id": "PRFbxwoIOb7-",
        "colab_type": "code",
        "colab": {}
      },
      "source": [
        "#as seen above the most occuring funding_round_code is \"A\", hence the value 'A' is chosen to replace the NaN values\n",
        "mode_val = master_frame['funding_round_code'].mode()[0]\n",
        "master_frame['funding_round_code'] = master_frame['funding_round_code'].fillna(mode_val)"
      ],
      "execution_count": null,
      "outputs": []
    },
    {
      "cell_type": "code",
      "metadata": {
        "id": "0CdT8n0NYySG",
        "colab_type": "code",
        "colab": {
          "base_uri": "https://localhost:8080/",
          "height": 221
        },
        "outputId": "098cdd6a-19d2-4473-e2a4-16b9ee255377"
      },
      "source": [
        "print(\"Shape of the dataframe post the data cleaning:\",master_frame.shape)\n",
        "\n",
        "#verifying for any null values left in the master_frame\n",
        "master_frame.isnull().sum()/len(master_frame.index)"
      ],
      "execution_count": null,
      "outputs": [
        {
          "output_type": "stream",
          "text": [
            "Shape of the dataframe post the data cleaning: (70043, 10)\n"
          ],
          "name": "stdout"
        },
        {
          "output_type": "execute_result",
          "data": {
            "text/plain": [
              "company_permalink         0.0000\n",
              "funding_round_permalink   0.0000\n",
              "funding_round_type        0.0000\n",
              "funding_round_code        0.0000\n",
              "funded_at                 0.0000\n",
              "raised_amount_usd         0.0000\n",
              "name                      0.0000\n",
              "category_list             0.0000\n",
              "status                    0.0000\n",
              "country_code              0.0000\n",
              "dtype: float64"
            ]
          },
          "metadata": {
            "tags": []
          },
          "execution_count": 34
        }
      ]
    },
    {
      "cell_type": "code",
      "metadata": {
        "id": "7vQyX9xpI3sT",
        "colab_type": "code",
        "colab": {
          "base_uri": "https://localhost:8080/",
          "height": 51
        },
        "outputId": "5ef111b4-2a2d-4d72-d516-10060d679ba8"
      },
      "source": [
        "#Loss of data calculation:\n",
        "print(\"Loss of data(in percentage) when compared with the original 114949 observations:{:.2%}\".format(1-(70162/114949)))\n",
        "print(\"Loss of data(in percentage) when compared with the filtered funding type and operational status with 86844 observations:{:.2%}\".format(1-(70162/86844)))"
      ],
      "execution_count": null,
      "outputs": [
        {
          "output_type": "stream",
          "text": [
            "Loss of data(in percentage) when compared with the original 114949 observations:38.96%\n",
            "Loss of data(in percentage) when compared with the filtered funding type and operational status with 86844 observations:19.21%\n"
          ],
          "name": "stdout"
        }
      ]
    },
    {
      "cell_type": "markdown",
      "metadata": {
        "id": "-6MJv6VvdANz",
        "colab_type": "text"
      },
      "source": [
        "Now we have the dataframe with no Null values for our further analysis, lets start our checkpoint 2.\n",
        "\n",
        "\n",
        "\n",
        "---"
      ]
    },
    {
      "cell_type": "markdown",
      "metadata": {
        "id": "qwELaKP64slr",
        "colab_type": "text"
      },
      "source": [
        "\n",
        "Finding the best suited funding type for Spark Funds "
      ]
    },
    {
      "cell_type": "code",
      "metadata": {
        "id": "FY1M5sIpx18t",
        "colab_type": "code",
        "colab": {
          "base_uri": "https://localhost:8080/",
          "height": 173
        },
        "outputId": "2be39956-01a4-4a14-d81f-46ff8ffb7c5d"
      },
      "source": [
        "#calculating the fraction of investment for each funding type\n",
        "frac = master_frame.groupby('funding_round_type')['raised_amount_usd'].sum().to_frame().reset_index()\n",
        "frac['fraction_in_perct'] = 100*(frac.raised_amount_usd/master_frame.raised_amount_usd.sum())\n",
        "frac"
      ],
      "execution_count": null,
      "outputs": [
        {
          "output_type": "execute_result",
          "data": {
            "text/html": [
              "<div>\n",
              "<style scoped>\n",
              "    .dataframe tbody tr th:only-of-type {\n",
              "        vertical-align: middle;\n",
              "    }\n",
              "\n",
              "    .dataframe tbody tr th {\n",
              "        vertical-align: top;\n",
              "    }\n",
              "\n",
              "    .dataframe thead th {\n",
              "        text-align: right;\n",
              "    }\n",
              "</style>\n",
              "<table border=\"1\" class=\"dataframe\">\n",
              "  <thead>\n",
              "    <tr style=\"text-align: right;\">\n",
              "      <th></th>\n",
              "      <th>funding_round_type</th>\n",
              "      <th>raised_amount_usd</th>\n",
              "      <th>fraction_in_perct</th>\n",
              "    </tr>\n",
              "  </thead>\n",
              "  <tbody>\n",
              "    <tr>\n",
              "      <th>0</th>\n",
              "      <td>angel</td>\n",
              "      <td>3948864781.0000</td>\n",
              "      <td>0.5789</td>\n",
              "    </tr>\n",
              "    <tr>\n",
              "      <th>1</th>\n",
              "      <td>private_equity</td>\n",
              "      <td>130906681239.0000</td>\n",
              "      <td>19.1904</td>\n",
              "    </tr>\n",
              "    <tr>\n",
              "      <th>2</th>\n",
              "      <td>seed</td>\n",
              "      <td>15060273114.0000</td>\n",
              "      <td>2.2078</td>\n",
              "    </tr>\n",
              "    <tr>\n",
              "      <th>3</th>\n",
              "      <td>venture</td>\n",
              "      <td>532230775868.0000</td>\n",
              "      <td>78.0229</td>\n",
              "    </tr>\n",
              "  </tbody>\n",
              "</table>\n",
              "</div>"
            ],
            "text/plain": [
              "  funding_round_type  raised_amount_usd  fraction_in_perct\n",
              "0              angel    3948864781.0000             0.5789\n",
              "1     private_equity  130906681239.0000            19.1904\n",
              "2               seed   15060273114.0000             2.2078\n",
              "3            venture  532230775868.0000            78.0229"
            ]
          },
          "metadata": {
            "tags": []
          },
          "execution_count": 36
        }
      ]
    },
    {
      "cell_type": "code",
      "metadata": {
        "id": "cLhe0dtzjR4b",
        "colab_type": "code",
        "colab": {
          "base_uri": "https://localhost:8080/",
          "height": 651
        },
        "outputId": "d523e2fa-6339-495c-c153-6155a992abb9"
      },
      "source": [
        "#Calculating the most representative value of the investment amount for each of the four funding\n",
        "print(\"Average Ivestments for the 4 funding_types that Sparks Funds are interested in:\")\n",
        "avg = master_frame.groupby('funding_round_type')['raised_amount_usd'].mean().sort_values(ascending=False).to_frame().reset_index()\n",
        "avg['raised_amt_usd_in_millions'] = avg.raised_amount_usd/1e6\n",
        "print(avg)\n",
        "print(\"------------------------------------------------------------------------------------------------------------------------------------------------\\n\")\n",
        "\n",
        "\n",
        "#defining a function for labelling and formatting the yticks\n",
        "def millions(x, pos):\n",
        "    if (x >= 1e6):\n",
        "      val = x/1e6\n",
        "      return('${:.0f}M'.format(val))\n",
        "    elif (x >= 1e9):\n",
        "      val = x/1e9\n",
        "      return('${:.0f}B'.format(val))\n",
        "      \n",
        "x = list(master_frame.raised_amount_usd.values)\n",
        "x_format = ticker.FuncFormatter(millions)\n",
        "\n",
        "#setting the size for the graph to be plotting\n",
        "fig = plt.figure(figsize=(20,8))\n",
        "ax = fig.add_subplot(121)\n",
        "\n",
        "\n",
        "ax = plt.pie(frac.raised_amount_usd/master_frame.raised_amount_usd.sum(), autopct='%.2f%%',explode=(0.05,0.1,0,0.08),\n",
        "        labels=('angel','privite_equity','seed','venture'),startangle=30,colors=['red','pink','orange','grey'])\n",
        "plt.title('Fraction of Investments{Global}')\n",
        "\n",
        "ax1 = fig.add_subplot(122)\n",
        "ax1 = sns.barplot(x=master_frame.funding_round_type,y=master_frame.raised_amount_usd,estimator=np.mean,palette='summer')\n",
        "plt.yscale(\"log\")\n",
        "ax1.yaxis.set_major_formatter(x_format)\n",
        "ax1.yaxis.set_minor_formatter(ticker.NullFormatter())\n",
        "ax1.title.set_text('Average amount of Investment in each funding type')\n",
        "plt.subplots_adjust(wspace=0.5)\n",
        "\n",
        "\n",
        "plt.show()"
      ],
      "execution_count": null,
      "outputs": [
        {
          "output_type": "stream",
          "text": [
            "Average Ivestments for the 4 funding_types that Sparks Funds are interested in:\n",
            "  funding_round_type  raised_amount_usd  raised_amt_usd_in_millions\n",
            "0     private_equity      76020140.0923                     76.0201\n",
            "1            venture      11900073.2447                     11.9001\n",
            "2              angel       1003523.4513                      1.0035\n",
            "3               seed        765997.3101                      0.7660\n",
            "------------------------------------------------------------------------------------------------------------------------------------------------\n",
            "\n"
          ],
          "name": "stdout"
        },
        {
          "output_type": "display_data",
          "data": {
            "image/png": "[encoded data removed]",
            "text/plain": [
              "<Figure size 1440x576 with 2 Axes>"
            ]
          },
          "metadata": {
            "tags": [],
            "needs_background": "light"
          }
        }
      ]
    },
    {
      "cell_type": "markdown",
      "metadata": {
        "id": "mr3jYENEba2x",
        "colab_type": "text"
      },
      "source": [
        "Based on output obtained for various investment types, the average investments for the funding_type, \"venture\" is 11.89 million USD Dollars\n",
        "Considering that Spark Funds wants to invest between 5 to 15 million USD, the funding_type \"venture\" should be suitable.\n",
        "\n",
        "Also, Checkpoint 6 Plots1 is as shown in the above graph.\n",
        "The plot shows the fraction of total investments (globally) in angel, venture, seed, and private equity, and the average amount of investment in each funding type. \n",
        "This chart makes it clear that “venture” funding type (FT) is best suited for Spark Funds."
      ]
    },
    {
      "cell_type": "markdown",
      "metadata": {
        "id": "cAtek7F1fmGe",
        "colab_type": "text"
      },
      "source": [
        "##**Checkpoint 3: Country Analysis**\n",
        "---\n",
        "Spark Funds wants to invest in countries with the highest amount of funding for the chosen investment type. This is a part of its broader strategy to invest where most investments are occurring\n",
        "\n"
      ]
    },
    {
      "cell_type": "code",
      "metadata": {
        "id": "LqcQSkOwflsm",
        "colab_type": "code",
        "colab": {
          "base_uri": "https://localhost:8080/",
          "height": 306
        },
        "outputId": "f9d01aa7-19f6-442e-bfce-e4056cbe569c"
      },
      "source": [
        "#filtering only venture funding type from the master_frame dataframe\n",
        "master_venture = master_frame.loc[master_frame['funding_round_type']=='venture']\n",
        "master_venture = master_venture.reset_index(drop=True)\n",
        "print(master_venture.shape)\n",
        "master_venture.head()"
      ],
      "execution_count": null,
      "outputs": [
        {
          "output_type": "stream",
          "text": [
            "(44725, 10)\n"
          ],
          "name": "stdout"
        },
        {
          "output_type": "execute_result",
          "data": {
            "text/html": [
              "<div>\n",
              "<style scoped>\n",
              "    .dataframe tbody tr th:only-of-type {\n",
              "        vertical-align: middle;\n",
              "    }\n",
              "\n",
              "    .dataframe tbody tr th {\n",
              "        vertical-align: top;\n",
              "    }\n",
              "\n",
              "    .dataframe thead th {\n",
              "        text-align: right;\n",
              "    }\n",
              "</style>\n",
              "<table border=\"1\" class=\"dataframe\">\n",
              "  <thead>\n",
              "    <tr style=\"text-align: right;\">\n",
              "      <th></th>\n",
              "      <th>company_permalink</th>\n",
              "      <th>funding_round_permalink</th>\n",
              "      <th>funding_round_type</th>\n",
              "      <th>funding_round_code</th>\n",
              "      <th>funded_at</th>\n",
              "      <th>raised_amount_usd</th>\n",
              "      <th>name</th>\n",
              "      <th>category_list</th>\n",
              "      <th>status</th>\n",
              "      <th>country_code</th>\n",
              "    </tr>\n",
              "  </thead>\n",
              "  <tbody>\n",
              "    <tr>\n",
              "      <th>0</th>\n",
              "      <td>/organization/-fame</td>\n",
              "      <td>/funding-round/9a01d05418af9f794eebff7ace91f638</td>\n",
              "      <td>venture</td>\n",
              "      <td>B</td>\n",
              "      <td>05-01-2015</td>\n",
              "      <td>10000000.0000</td>\n",
              "      <td>fame</td>\n",
              "      <td>Media</td>\n",
              "      <td>operating</td>\n",
              "      <td>IND</td>\n",
              "    </tr>\n",
              "    <tr>\n",
              "      <th>1</th>\n",
              "      <td>/organization/0-6-com</td>\n",
              "      <td>/funding-round/5727accaeaa57461bd22a9bdd945382d</td>\n",
              "      <td>venture</td>\n",
              "      <td>A</td>\n",
              "      <td>19-03-2008</td>\n",
              "      <td>2000000.0000</td>\n",
              "      <td>0-6.com</td>\n",
              "      <td>Curated Web</td>\n",
              "      <td>operating</td>\n",
              "      <td>CHN</td>\n",
              "    </tr>\n",
              "    <tr>\n",
              "      <th>2</th>\n",
              "      <td>/organization/0ndine-biomedical-inc</td>\n",
              "      <td>/funding-round/954b9499724b946ad8c396a57a5f3b72</td>\n",
              "      <td>venture</td>\n",
              "      <td>A</td>\n",
              "      <td>21-12-2009</td>\n",
              "      <td>719491.0000</td>\n",
              "      <td>Ondine Biomedical Inc.</td>\n",
              "      <td>Biotechnology</td>\n",
              "      <td>operating</td>\n",
              "      <td>CAN</td>\n",
              "    </tr>\n",
              "    <tr>\n",
              "      <th>3</th>\n",
              "      <td>/organization/0xdata</td>\n",
              "      <td>/funding-round/3bb2ee4a2d89251a10aaa735b1180e44</td>\n",
              "      <td>venture</td>\n",
              "      <td>B</td>\n",
              "      <td>09-11-2015</td>\n",
              "      <td>20000000.0000</td>\n",
              "      <td>H2O.ai</td>\n",
              "      <td>Analytics</td>\n",
              "      <td>operating</td>\n",
              "      <td>USA</td>\n",
              "    </tr>\n",
              "    <tr>\n",
              "      <th>4</th>\n",
              "      <td>/organization/0xdata</td>\n",
              "      <td>/funding-round/ae2a174c06517c2394aed45006322a7e</td>\n",
              "      <td>venture</td>\n",
              "      <td>A</td>\n",
              "      <td>03-01-2013</td>\n",
              "      <td>1700000.0000</td>\n",
              "      <td>H2O.ai</td>\n",
              "      <td>Analytics</td>\n",
              "      <td>operating</td>\n",
              "      <td>USA</td>\n",
              "    </tr>\n",
              "  </tbody>\n",
              "</table>\n",
              "</div>"
            ],
            "text/plain": [
              "                     company_permalink  ... country_code\n",
              "0                  /organization/-fame  ...          IND\n",
              "1                /organization/0-6-com  ...          CHN\n",
              "2  /organization/0ndine-biomedical-inc  ...          CAN\n",
              "3                 /organization/0xdata  ...          USA\n",
              "4                 /organization/0xdata  ...          USA\n",
              "\n",
              "[5 rows x 10 columns]"
            ]
          },
          "metadata": {
            "tags": []
          },
          "execution_count": 38
        }
      ]
    },
    {
      "cell_type": "markdown",
      "metadata": {
        "id": "Qn_HBagb_3lM",
        "colab_type": "text"
      },
      "source": [
        "\n",
        "\n",
        "Calculating the Top9 countries that have received the highest investments:"
      ]
    },
    {
      "cell_type": "code",
      "metadata": {
        "id": "5StDd9pIgv2c",
        "colab_type": "code",
        "colab": {
          "base_uri": "https://localhost:8080/",
          "height": 328
        },
        "outputId": "970ab80c-54b6-4379-94b9-ccd07fa04279"
      },
      "source": [
        "top9_df = master_venture.groupby('country_code')['raised_amount_usd'].sum().to_frame(name='total_investments').reset_index()\n",
        "top9 = top9_df.nlargest(9,'total_investments')\n",
        "top9 = top9.reset_index(drop=True)\n",
        "top9"
      ],
      "execution_count": null,
      "outputs": [
        {
          "output_type": "execute_result",
          "data": {
            "text/html": [
              "<div>\n",
              "<style scoped>\n",
              "    .dataframe tbody tr th:only-of-type {\n",
              "        vertical-align: middle;\n",
              "    }\n",
              "\n",
              "    .dataframe tbody tr th {\n",
              "        vertical-align: top;\n",
              "    }\n",
              "\n",
              "    .dataframe thead th {\n",
              "        text-align: right;\n",
              "    }\n",
              "</style>\n",
              "<table border=\"1\" class=\"dataframe\">\n",
              "  <thead>\n",
              "    <tr style=\"text-align: right;\">\n",
              "      <th></th>\n",
              "      <th>country_code</th>\n",
              "      <th>total_investments</th>\n",
              "    </tr>\n",
              "  </thead>\n",
              "  <tbody>\n",
              "    <tr>\n",
              "      <th>0</th>\n",
              "      <td>USA</td>\n",
              "      <td>398324586390.0000</td>\n",
              "    </tr>\n",
              "    <tr>\n",
              "      <th>1</th>\n",
              "      <td>CHN</td>\n",
              "      <td>38642273502.0000</td>\n",
              "    </tr>\n",
              "    <tr>\n",
              "      <th>2</th>\n",
              "      <td>GBR</td>\n",
              "      <td>18142285645.0000</td>\n",
              "    </tr>\n",
              "    <tr>\n",
              "      <th>3</th>\n",
              "      <td>IND</td>\n",
              "      <td>13920253718.0000</td>\n",
              "    </tr>\n",
              "    <tr>\n",
              "      <th>4</th>\n",
              "      <td>CAN</td>\n",
              "      <td>8747167598.0000</td>\n",
              "    </tr>\n",
              "    <tr>\n",
              "      <th>5</th>\n",
              "      <td>FRA</td>\n",
              "      <td>6742608637.0000</td>\n",
              "    </tr>\n",
              "    <tr>\n",
              "      <th>6</th>\n",
              "      <td>ISR</td>\n",
              "      <td>6484356814.0000</td>\n",
              "    </tr>\n",
              "    <tr>\n",
              "      <th>7</th>\n",
              "      <td>DEU</td>\n",
              "      <td>6021103078.0000</td>\n",
              "    </tr>\n",
              "    <tr>\n",
              "      <th>8</th>\n",
              "      <td>JPN</td>\n",
              "      <td>3156202471.0000</td>\n",
              "    </tr>\n",
              "  </tbody>\n",
              "</table>\n",
              "</div>"
            ],
            "text/plain": [
              "  country_code  total_investments\n",
              "0          USA  398324586390.0000\n",
              "1          CHN   38642273502.0000\n",
              "2          GBR   18142285645.0000\n",
              "3          IND   13920253718.0000\n",
              "4          CAN    8747167598.0000\n",
              "5          FRA    6742608637.0000\n",
              "6          ISR    6484356814.0000\n",
              "7          DEU    6021103078.0000\n",
              "8          JPN    3156202471.0000"
            ]
          },
          "metadata": {
            "tags": []
          },
          "execution_count": 39
        }
      ]
    },
    {
      "cell_type": "markdown",
      "metadata": {
        "id": "2R06fAF__61H",
        "colab_type": "text"
      },
      "source": [
        "choosing the top3 countries with english as their official language from info available at (https://en.wikipedia.org/wiki/List_of_territorial_entities_where_English_is_an_official_language)"
      ]
    },
    {
      "cell_type": "code",
      "metadata": {
        "id": "OCAePYaq_gjU",
        "colab_type": "code",
        "colab": {
          "base_uri": "https://localhost:8080/",
          "height": 142
        },
        "outputId": "9d18b5e2-98d4-49a4-d3fc-400f98973975"
      },
      "source": [
        "#top3 English-Speaking countries with the highest investments\n",
        "top9[top9.country_code.isin(['USA','GBR','IND'])]"
      ],
      "execution_count": null,
      "outputs": [
        {
          "output_type": "execute_result",
          "data": {
            "text/html": [
              "<div>\n",
              "<style scoped>\n",
              "    .dataframe tbody tr th:only-of-type {\n",
              "        vertical-align: middle;\n",
              "    }\n",
              "\n",
              "    .dataframe tbody tr th {\n",
              "        vertical-align: top;\n",
              "    }\n",
              "\n",
              "    .dataframe thead th {\n",
              "        text-align: right;\n",
              "    }\n",
              "</style>\n",
              "<table border=\"1\" class=\"dataframe\">\n",
              "  <thead>\n",
              "    <tr style=\"text-align: right;\">\n",
              "      <th></th>\n",
              "      <th>country_code</th>\n",
              "      <th>total_investments</th>\n",
              "    </tr>\n",
              "  </thead>\n",
              "  <tbody>\n",
              "    <tr>\n",
              "      <th>0</th>\n",
              "      <td>USA</td>\n",
              "      <td>398324586390.0000</td>\n",
              "    </tr>\n",
              "    <tr>\n",
              "      <th>2</th>\n",
              "      <td>GBR</td>\n",
              "      <td>18142285645.0000</td>\n",
              "    </tr>\n",
              "    <tr>\n",
              "      <th>3</th>\n",
              "      <td>IND</td>\n",
              "      <td>13920253718.0000</td>\n",
              "    </tr>\n",
              "  </tbody>\n",
              "</table>\n",
              "</div>"
            ],
            "text/plain": [
              "  country_code  total_investments\n",
              "0          USA  398324586390.0000\n",
              "2          GBR   18142285645.0000\n",
              "3          IND   13920253718.0000"
            ]
          },
          "metadata": {
            "tags": []
          },
          "execution_count": 40
        }
      ]
    },
    {
      "cell_type": "code",
      "metadata": {
        "id": "dE3zRqIe5VrV",
        "colab_type": "code",
        "colab": {
          "base_uri": "https://localhost:8080/",
          "height": 459
        },
        "outputId": "a6250152-cd1a-468f-b931-af71a690ee71"
      },
      "source": [
        "#plotting the top9 countries\n",
        "\n",
        "from matplotlib.lines import Line2D  #importing a library for naming the legend in the graph\n",
        "x_format = ticker.FuncFormatter(millions) #function as called previously\n",
        "x = list(top9.total_investments.values)\n",
        "\n",
        "ax = plt.figure(figsize=(10,7))\n",
        "countries = top9.country_code.values.tolist()\n",
        "clrs = ['green' if i<=3 and i!=1 else 'orange' for i, j in enumerate(countries) ]\n",
        "ax = sns.barplot(y=top9.country_code,x=top9.total_investments,palette=clrs)\n",
        "plt.xscale(\"log\")\n",
        "#plt.xticks(np.arange(min(x),max(x)+1,1e6))\n",
        "ax.xaxis.set_major_formatter(x_format)\n",
        "ax.xaxis.set_minor_formatter(ticker.NullFormatter())\n",
        "plt.title('top9 Countries based on Total_Investments')\n",
        "\n",
        "legend_ele = [Line2D([0], [0], color='green', lw=5)]\n",
        "\n",
        "ax.legend(legend_ele, ['Top3 English speaking countries'])\n",
        "plt.show(ax)\n",
        "plt.show()"
      ],
      "execution_count": null,
      "outputs": [
        {
          "output_type": "display_data",
          "data": {
            "image/png": "[encoded data removed]",
            "text/plain": [
              "<Figure size 720x504 with 1 Axes>"
            ]
          },
          "metadata": {
            "tags": [],
            "needs_background": "light"
          }
        }
      ]
    },
    {
      "cell_type": "markdown",
      "metadata": {
        "id": "420QWcHWzZcr",
        "colab_type": "text"
      },
      "source": [
        "Checkpoint 6 Plots2 is as shown in the above graph.\n",
        "\n",
        "This plot shows the top 9 countries against the total amount of investments of funding type FT. \n",
        "This plot also makes the top 3 countries English-Speaking countries very clear.\n"
      ]
    },
    {
      "cell_type": "markdown",
      "metadata": {
        "id": "Fw10WxNO6Slc",
        "colab_type": "text"
      },
      "source": [
        "##**Checkpoint 4: Sector Analysis 1**\n",
        "\n",
        "\n",
        "---\n",
        "\n",
        "\n",
        "\n",
        "Finding the Primary Sectors"
      ]
    },
    {
      "cell_type": "code",
      "metadata": {
        "id": "6UHA6aV7i5HF",
        "colab_type": "code",
        "colab": {
          "base_uri": "https://localhost:8080/",
          "height": 326
        },
        "outputId": "679b3bba-c929-46f8-e387-61a3021ae350"
      },
      "source": [
        "#Splitting the Primary Sector from the category_list present in the dataframe\n",
        "split_category = master_venture.category_list.str.split('|').tolist()\n",
        "split_category_pri_sec = [split_category[i][0] for i in range(int(len(split_category)))]\n",
        "\n",
        "master_venture['primary_sector'] = split_category_pri_sec\n",
        "                                                              \n",
        "master_venture.head()                                                              "
      ],
      "execution_count": null,
      "outputs": [
        {
          "output_type": "execute_result",
          "data": {
            "text/html": [
              "<div>\n",
              "<style scoped>\n",
              "    .dataframe tbody tr th:only-of-type {\n",
              "        vertical-align: middle;\n",
              "    }\n",
              "\n",
              "    .dataframe tbody tr th {\n",
              "        vertical-align: top;\n",
              "    }\n",
              "\n",
              "    .dataframe thead th {\n",
              "        text-align: right;\n",
              "    }\n",
              "</style>\n",
              "<table border=\"1\" class=\"dataframe\">\n",
              "  <thead>\n",
              "    <tr style=\"text-align: right;\">\n",
              "      <th></th>\n",
              "      <th>company_permalink</th>\n",
              "      <th>funding_round_permalink</th>\n",
              "      <th>funding_round_type</th>\n",
              "      <th>funding_round_code</th>\n",
              "      <th>funded_at</th>\n",
              "      <th>raised_amount_usd</th>\n",
              "      <th>name</th>\n",
              "      <th>category_list</th>\n",
              "      <th>status</th>\n",
              "      <th>country_code</th>\n",
              "      <th>primary_sector</th>\n",
              "    </tr>\n",
              "  </thead>\n",
              "  <tbody>\n",
              "    <tr>\n",
              "      <th>0</th>\n",
              "      <td>/organization/-fame</td>\n",
              "      <td>/funding-round/9a01d05418af9f794eebff7ace91f638</td>\n",
              "      <td>venture</td>\n",
              "      <td>B</td>\n",
              "      <td>05-01-2015</td>\n",
              "      <td>10000000.0000</td>\n",
              "      <td>fame</td>\n",
              "      <td>Media</td>\n",
              "      <td>operating</td>\n",
              "      <td>IND</td>\n",
              "      <td>Media</td>\n",
              "    </tr>\n",
              "    <tr>\n",
              "      <th>1</th>\n",
              "      <td>/organization/0-6-com</td>\n",
              "      <td>/funding-round/5727accaeaa57461bd22a9bdd945382d</td>\n",
              "      <td>venture</td>\n",
              "      <td>A</td>\n",
              "      <td>19-03-2008</td>\n",
              "      <td>2000000.0000</td>\n",
              "      <td>0-6.com</td>\n",
              "      <td>Curated Web</td>\n",
              "      <td>operating</td>\n",
              "      <td>CHN</td>\n",
              "      <td>Curated Web</td>\n",
              "    </tr>\n",
              "    <tr>\n",
              "      <th>2</th>\n",
              "      <td>/organization/0ndine-biomedical-inc</td>\n",
              "      <td>/funding-round/954b9499724b946ad8c396a57a5f3b72</td>\n",
              "      <td>venture</td>\n",
              "      <td>A</td>\n",
              "      <td>21-12-2009</td>\n",
              "      <td>719491.0000</td>\n",
              "      <td>Ondine Biomedical Inc.</td>\n",
              "      <td>Biotechnology</td>\n",
              "      <td>operating</td>\n",
              "      <td>CAN</td>\n",
              "      <td>Biotechnology</td>\n",
              "    </tr>\n",
              "    <tr>\n",
              "      <th>3</th>\n",
              "      <td>/organization/0xdata</td>\n",
              "      <td>/funding-round/3bb2ee4a2d89251a10aaa735b1180e44</td>\n",
              "      <td>venture</td>\n",
              "      <td>B</td>\n",
              "      <td>09-11-2015</td>\n",
              "      <td>20000000.0000</td>\n",
              "      <td>H2O.ai</td>\n",
              "      <td>Analytics</td>\n",
              "      <td>operating</td>\n",
              "      <td>USA</td>\n",
              "      <td>Analytics</td>\n",
              "    </tr>\n",
              "    <tr>\n",
              "      <th>4</th>\n",
              "      <td>/organization/0xdata</td>\n",
              "      <td>/funding-round/ae2a174c06517c2394aed45006322a7e</td>\n",
              "      <td>venture</td>\n",
              "      <td>A</td>\n",
              "      <td>03-01-2013</td>\n",
              "      <td>1700000.0000</td>\n",
              "      <td>H2O.ai</td>\n",
              "      <td>Analytics</td>\n",
              "      <td>operating</td>\n",
              "      <td>USA</td>\n",
              "      <td>Analytics</td>\n",
              "    </tr>\n",
              "  </tbody>\n",
              "</table>\n",
              "</div>"
            ],
            "text/plain": [
              "                     company_permalink  ... primary_sector\n",
              "0                  /organization/-fame  ...          Media\n",
              "1                /organization/0-6-com  ...    Curated Web\n",
              "2  /organization/0ndine-biomedical-inc  ...  Biotechnology\n",
              "3                 /organization/0xdata  ...      Analytics\n",
              "4                 /organization/0xdata  ...      Analytics\n",
              "\n",
              "[5 rows x 11 columns]"
            ]
          },
          "metadata": {
            "tags": []
          },
          "execution_count": 42
        }
      ]
    },
    {
      "cell_type": "code",
      "metadata": {
        "id": "RzhrRXH_j0vt",
        "colab_type": "code",
        "colab": {
          "base_uri": "https://localhost:8080/",
          "height": 359
        },
        "outputId": "e4efc8d1-804f-4884-b825-04a59cf849cf"
      },
      "source": [
        "#verifying if the split is successful:\n",
        "master_venture[master_venture.category_list.str.contains('\\|')][['company_permalink','category_list','primary_sector']].head(10)"
      ],
      "execution_count": null,
      "outputs": [
        {
          "output_type": "execute_result",
          "data": {
            "text/html": [
              "<div>\n",
              "<style scoped>\n",
              "    .dataframe tbody tr th:only-of-type {\n",
              "        vertical-align: middle;\n",
              "    }\n",
              "\n",
              "    .dataframe tbody tr th {\n",
              "        vertical-align: top;\n",
              "    }\n",
              "\n",
              "    .dataframe thead th {\n",
              "        text-align: right;\n",
              "    }\n",
              "</style>\n",
              "<table border=\"1\" class=\"dataframe\">\n",
              "  <thead>\n",
              "    <tr style=\"text-align: right;\">\n",
              "      <th></th>\n",
              "      <th>company_permalink</th>\n",
              "      <th>category_list</th>\n",
              "      <th>primary_sector</th>\n",
              "    </tr>\n",
              "  </thead>\n",
              "  <tbody>\n",
              "    <tr>\n",
              "      <th>6</th>\n",
              "      <td>/organization/1-mainstream</td>\n",
              "      <td>Apps|Cable|Distribution|Software</td>\n",
              "      <td>Apps</td>\n",
              "    </tr>\n",
              "    <tr>\n",
              "      <th>13</th>\n",
              "      <td>/organization/1001-menus</td>\n",
              "      <td>Local Businesses|Restaurants</td>\n",
              "      <td>Local Businesses</td>\n",
              "    </tr>\n",
              "    <tr>\n",
              "      <th>14</th>\n",
              "      <td>/organization/1001-menus</td>\n",
              "      <td>Local Businesses|Restaurants</td>\n",
              "      <td>Local Businesses</td>\n",
              "    </tr>\n",
              "    <tr>\n",
              "      <th>15</th>\n",
              "      <td>/organization/1001-menus</td>\n",
              "      <td>Local Businesses|Restaurants</td>\n",
              "      <td>Local Businesses</td>\n",
              "    </tr>\n",
              "    <tr>\n",
              "      <th>16</th>\n",
              "      <td>/organization/1001pharmacies-com</td>\n",
              "      <td>Cosmetics|Marketplaces</td>\n",
              "      <td>Cosmetics</td>\n",
              "    </tr>\n",
              "    <tr>\n",
              "      <th>17</th>\n",
              "      <td>/organization/1006-tv</td>\n",
              "      <td>Games|Media</td>\n",
              "      <td>Games</td>\n",
              "    </tr>\n",
              "    <tr>\n",
              "      <th>21</th>\n",
              "      <td>/organization/100health</td>\n",
              "      <td>Health Care|Health Care Information Technology...</td>\n",
              "      <td>Health Care</td>\n",
              "    </tr>\n",
              "    <tr>\n",
              "      <th>24</th>\n",
              "      <td>/organization/10x-genomics</td>\n",
              "      <td>Biotechnology|Technology</td>\n",
              "      <td>Biotechnology</td>\n",
              "    </tr>\n",
              "    <tr>\n",
              "      <th>27</th>\n",
              "      <td>/organization/123contactform</td>\n",
              "      <td>E-Commerce|SaaS</td>\n",
              "      <td>E-Commerce</td>\n",
              "    </tr>\n",
              "    <tr>\n",
              "      <th>28</th>\n",
              "      <td>/organization/128-technology</td>\n",
              "      <td>Service Providers|Technology</td>\n",
              "      <td>Service Providers</td>\n",
              "    </tr>\n",
              "  </tbody>\n",
              "</table>\n",
              "</div>"
            ],
            "text/plain": [
              "                   company_permalink  ...     primary_sector\n",
              "6         /organization/1-mainstream  ...               Apps\n",
              "13          /organization/1001-menus  ...   Local Businesses\n",
              "14          /organization/1001-menus  ...   Local Businesses\n",
              "15          /organization/1001-menus  ...   Local Businesses\n",
              "16  /organization/1001pharmacies-com  ...          Cosmetics\n",
              "17             /organization/1006-tv  ...              Games\n",
              "21           /organization/100health  ...        Health Care\n",
              "24        /organization/10x-genomics  ...      Biotechnology\n",
              "27      /organization/123contactform  ...         E-Commerce\n",
              "28      /organization/128-technology  ...  Service Providers\n",
              "\n",
              "[10 rows x 3 columns]"
            ]
          },
          "metadata": {
            "tags": []
          },
          "execution_count": 43
        }
      ]
    },
    {
      "cell_type": "code",
      "metadata": {
        "id": "lxOa1R_kkRA-",
        "colab_type": "code",
        "colab": {
          "base_uri": "https://localhost:8080/",
          "height": 34
        },
        "outputId": "7edf5878-62ae-4230-e571-662b0897e385"
      },
      "source": [
        "#Importing the mapping data set\n",
        "\n",
        "mapping = pd.read_csv(path+'mapping.csv',encoding='latin1')\n",
        "mapping.shape"
      ],
      "execution_count": null,
      "outputs": [
        {
          "output_type": "execute_result",
          "data": {
            "text/plain": [
              "(688, 10)"
            ]
          },
          "metadata": {
            "tags": []
          },
          "execution_count": 44
        }
      ]
    },
    {
      "cell_type": "code",
      "metadata": {
        "id": "S0lYM2kokkHj",
        "colab_type": "code",
        "colab": {
          "base_uri": "https://localhost:8080/",
          "height": 204
        },
        "outputId": "5c60533a-ad34-4a57-81e4-98c241d6a0f7"
      },
      "source": [
        "#checking for null values\n",
        "mapping.isnull().sum()"
      ],
      "execution_count": null,
      "outputs": [
        {
          "output_type": "execute_result",
          "data": {
            "text/plain": [
              "category_list                              1\n",
              "Automotive & Sports                        0\n",
              "Blanks                                     0\n",
              "Cleantech / Semiconductors                 0\n",
              "Entertainment                              0\n",
              "Health                                     0\n",
              "Manufacturing                              0\n",
              "News, Search and Messaging                 0\n",
              "Others                                     0\n",
              "Social, Finance, Analytics, Advertising    0\n",
              "dtype: int64"
            ]
          },
          "metadata": {
            "tags": []
          },
          "execution_count": 45
        }
      ]
    },
    {
      "cell_type": "code",
      "metadata": {
        "id": "dtoQJKBwkvwE",
        "colab_type": "code",
        "colab": {
          "base_uri": "https://localhost:8080/",
          "height": 204
        },
        "outputId": "8e806747-97bc-42b4-f219-928b4647903b"
      },
      "source": [
        "mapping.head()"
      ],
      "execution_count": null,
      "outputs": [
        {
          "output_type": "execute_result",
          "data": {
            "text/html": [
              "<div>\n",
              "<style scoped>\n",
              "    .dataframe tbody tr th:only-of-type {\n",
              "        vertical-align: middle;\n",
              "    }\n",
              "\n",
              "    .dataframe tbody tr th {\n",
              "        vertical-align: top;\n",
              "    }\n",
              "\n",
              "    .dataframe thead th {\n",
              "        text-align: right;\n",
              "    }\n",
              "</style>\n",
              "<table border=\"1\" class=\"dataframe\">\n",
              "  <thead>\n",
              "    <tr style=\"text-align: right;\">\n",
              "      <th></th>\n",
              "      <th>category_list</th>\n",
              "      <th>Automotive &amp; Sports</th>\n",
              "      <th>Blanks</th>\n",
              "      <th>Cleantech / Semiconductors</th>\n",
              "      <th>Entertainment</th>\n",
              "      <th>Health</th>\n",
              "      <th>Manufacturing</th>\n",
              "      <th>News, Search and Messaging</th>\n",
              "      <th>Others</th>\n",
              "      <th>Social, Finance, Analytics, Advertising</th>\n",
              "    </tr>\n",
              "  </thead>\n",
              "  <tbody>\n",
              "    <tr>\n",
              "      <th>0</th>\n",
              "      <td>NaN</td>\n",
              "      <td>0</td>\n",
              "      <td>1</td>\n",
              "      <td>0</td>\n",
              "      <td>0</td>\n",
              "      <td>0</td>\n",
              "      <td>0</td>\n",
              "      <td>0</td>\n",
              "      <td>0</td>\n",
              "      <td>0</td>\n",
              "    </tr>\n",
              "    <tr>\n",
              "      <th>1</th>\n",
              "      <td>3D</td>\n",
              "      <td>0</td>\n",
              "      <td>0</td>\n",
              "      <td>0</td>\n",
              "      <td>0</td>\n",
              "      <td>0</td>\n",
              "      <td>1</td>\n",
              "      <td>0</td>\n",
              "      <td>0</td>\n",
              "      <td>0</td>\n",
              "    </tr>\n",
              "    <tr>\n",
              "      <th>2</th>\n",
              "      <td>3D Printing</td>\n",
              "      <td>0</td>\n",
              "      <td>0</td>\n",
              "      <td>0</td>\n",
              "      <td>0</td>\n",
              "      <td>0</td>\n",
              "      <td>1</td>\n",
              "      <td>0</td>\n",
              "      <td>0</td>\n",
              "      <td>0</td>\n",
              "    </tr>\n",
              "    <tr>\n",
              "      <th>3</th>\n",
              "      <td>3D Technology</td>\n",
              "      <td>0</td>\n",
              "      <td>0</td>\n",
              "      <td>0</td>\n",
              "      <td>0</td>\n",
              "      <td>0</td>\n",
              "      <td>1</td>\n",
              "      <td>0</td>\n",
              "      <td>0</td>\n",
              "      <td>0</td>\n",
              "    </tr>\n",
              "    <tr>\n",
              "      <th>4</th>\n",
              "      <td>Accounting</td>\n",
              "      <td>0</td>\n",
              "      <td>0</td>\n",
              "      <td>0</td>\n",
              "      <td>0</td>\n",
              "      <td>0</td>\n",
              "      <td>0</td>\n",
              "      <td>0</td>\n",
              "      <td>0</td>\n",
              "      <td>1</td>\n",
              "    </tr>\n",
              "  </tbody>\n",
              "</table>\n",
              "</div>"
            ],
            "text/plain": [
              "   category_list  ...  Social, Finance, Analytics, Advertising\n",
              "0            NaN  ...                                        0\n",
              "1             3D  ...                                        0\n",
              "2    3D Printing  ...                                        0\n",
              "3  3D Technology  ...                                        0\n",
              "4     Accounting  ...                                        1\n",
              "\n",
              "[5 rows x 10 columns]"
            ]
          },
          "metadata": {
            "tags": []
          },
          "execution_count": 46
        }
      ]
    },
    {
      "cell_type": "markdown",
      "metadata": {
        "id": "AZ3S0s6D6y6m",
        "colab_type": "text"
      },
      "source": [
        "Cleaning the mapping data:"
      ]
    },
    {
      "cell_type": "code",
      "metadata": {
        "id": "f_NvTH6Fej-A",
        "colab_type": "code",
        "colab": {
          "base_uri": "https://localhost:8080/",
          "height": 221
        },
        "outputId": "d793c41c-9b19-4e2c-fa4b-90780ba50588"
      },
      "source": [
        "#dropping the null value\n",
        "mapping.dropna(subset=['category_list'],inplace=True)\n",
        "print(mapping.shape)\n",
        "mapping.isnull().sum()"
      ],
      "execution_count": null,
      "outputs": [
        {
          "output_type": "stream",
          "text": [
            "(687, 10)\n"
          ],
          "name": "stdout"
        },
        {
          "output_type": "execute_result",
          "data": {
            "text/plain": [
              "category_list                              0\n",
              "Automotive & Sports                        0\n",
              "Blanks                                     0\n",
              "Cleantech / Semiconductors                 0\n",
              "Entertainment                              0\n",
              "Health                                     0\n",
              "Manufacturing                              0\n",
              "News, Search and Messaging                 0\n",
              "Others                                     0\n",
              "Social, Finance, Analytics, Advertising    0\n",
              "dtype: int64"
            ]
          },
          "metadata": {
            "tags": []
          },
          "execution_count": 47
        }
      ]
    },
    {
      "cell_type": "code",
      "metadata": {
        "id": "U6o8ovVmdrzY",
        "colab_type": "code",
        "colab": {
          "base_uri": "https://localhost:8080/",
          "height": 204
        },
        "outputId": "5bb1c0b2-c295-44ff-b6bc-e35bdc7beaa6"
      },
      "source": [
        "#data present in the category list contains '0' in place of the letters 'na'\n",
        "mapping[mapping.category_list.str.contains('0')][['category_list']].head()"
      ],
      "execution_count": null,
      "outputs": [
        {
          "output_type": "execute_result",
          "data": {
            "text/html": [
              "<div>\n",
              "<style scoped>\n",
              "    .dataframe tbody tr th:only-of-type {\n",
              "        vertical-align: middle;\n",
              "    }\n",
              "\n",
              "    .dataframe tbody tr th {\n",
              "        vertical-align: top;\n",
              "    }\n",
              "\n",
              "    .dataframe thead th {\n",
              "        text-align: right;\n",
              "    }\n",
              "</style>\n",
              "<table border=\"1\" class=\"dataframe\">\n",
              "  <thead>\n",
              "    <tr style=\"text-align: right;\">\n",
              "      <th></th>\n",
              "      <th>category_list</th>\n",
              "    </tr>\n",
              "  </thead>\n",
              "  <tbody>\n",
              "    <tr>\n",
              "      <th>20</th>\n",
              "      <td>Alter0tive Medicine</td>\n",
              "    </tr>\n",
              "    <tr>\n",
              "      <th>22</th>\n",
              "      <td>A0lytics</td>\n",
              "    </tr>\n",
              "    <tr>\n",
              "      <th>59</th>\n",
              "      <td>Big Data A0lytics</td>\n",
              "    </tr>\n",
              "    <tr>\n",
              "      <th>79</th>\n",
              "      <td>Business A0lytics</td>\n",
              "    </tr>\n",
              "    <tr>\n",
              "      <th>89</th>\n",
              "      <td>Can0bis</td>\n",
              "    </tr>\n",
              "  </tbody>\n",
              "</table>\n",
              "</div>"
            ],
            "text/plain": [
              "          category_list\n",
              "20  Alter0tive Medicine\n",
              "22             A0lytics\n",
              "59    Big Data A0lytics\n",
              "79    Business A0lytics\n",
              "89              Can0bis"
            ]
          },
          "metadata": {
            "tags": []
          },
          "execution_count": 48
        }
      ]
    },
    {
      "cell_type": "code",
      "metadata": {
        "id": "254eGcF3k_8i",
        "colab_type": "code",
        "colab": {
          "base_uri": "https://localhost:8080/",
          "height": 204
        },
        "outputId": "0034e6ba-a670-4b07-efaf-8eabd8f7a71c"
      },
      "source": [
        "#replacing 0 with 'na\n",
        "mapping_category = mapping.category_list.str.replace('0','na',regex=True).to_list()\n",
        "\n",
        "mapping['category_list'] = mapping_category\n",
        "\n",
        "#verifying the changes are successful\n",
        "mapping[mapping.category_list.str.contains('na')][['category_list']].head()"
      ],
      "execution_count": null,
      "outputs": [
        {
          "output_type": "execute_result",
          "data": {
            "text/html": [
              "<div>\n",
              "<style scoped>\n",
              "    .dataframe tbody tr th:only-of-type {\n",
              "        vertical-align: middle;\n",
              "    }\n",
              "\n",
              "    .dataframe tbody tr th {\n",
              "        vertical-align: top;\n",
              "    }\n",
              "\n",
              "    .dataframe thead th {\n",
              "        text-align: right;\n",
              "    }\n",
              "</style>\n",
              "<table border=\"1\" class=\"dataframe\">\n",
              "  <thead>\n",
              "    <tr style=\"text-align: right;\">\n",
              "      <th></th>\n",
              "      <th>category_list</th>\n",
              "    </tr>\n",
              "  </thead>\n",
              "  <tbody>\n",
              "    <tr>\n",
              "      <th>20</th>\n",
              "      <td>Alternative Medicine</td>\n",
              "    </tr>\n",
              "    <tr>\n",
              "      <th>22</th>\n",
              "      <td>Analytics</td>\n",
              "    </tr>\n",
              "    <tr>\n",
              "      <th>59</th>\n",
              "      <td>Big Data Analytics</td>\n",
              "    </tr>\n",
              "    <tr>\n",
              "      <th>79</th>\n",
              "      <td>Business Analytics</td>\n",
              "    </tr>\n",
              "    <tr>\n",
              "      <th>89</th>\n",
              "      <td>Cannabis</td>\n",
              "    </tr>\n",
              "  </tbody>\n",
              "</table>\n",
              "</div>"
            ],
            "text/plain": [
              "           category_list\n",
              "20  Alternative Medicine\n",
              "22             Analytics\n",
              "59    Big Data Analytics\n",
              "79    Business Analytics\n",
              "89              Cannabis"
            ]
          },
          "metadata": {
            "tags": []
          },
          "execution_count": 49
        }
      ]
    },
    {
      "cell_type": "code",
      "metadata": {
        "id": "gX9XUKpul7rN",
        "colab_type": "code",
        "colab": {
          "base_uri": "https://localhost:8080/",
          "height": 80
        },
        "outputId": "1b42e9f2-3e89-4501-a937-a1b97856defb"
      },
      "source": [
        "#ensuring 0 is not elimated from the category_list where it is necessary\n",
        "mapping.category_list.replace({\"Enterprise 2.na\":\"Enterprise 2.0\"},inplace=True)\n",
        "mapping.loc[mapping.category_list=='Enterprise 2.0']"
      ],
      "execution_count": null,
      "outputs": [
        {
          "output_type": "execute_result",
          "data": {
            "text/html": [
              "<div>\n",
              "<style scoped>\n",
              "    .dataframe tbody tr th:only-of-type {\n",
              "        vertical-align: middle;\n",
              "    }\n",
              "\n",
              "    .dataframe tbody tr th {\n",
              "        vertical-align: top;\n",
              "    }\n",
              "\n",
              "    .dataframe thead th {\n",
              "        text-align: right;\n",
              "    }\n",
              "</style>\n",
              "<table border=\"1\" class=\"dataframe\">\n",
              "  <thead>\n",
              "    <tr style=\"text-align: right;\">\n",
              "      <th></th>\n",
              "      <th>category_list</th>\n",
              "      <th>Automotive &amp; Sports</th>\n",
              "      <th>Blanks</th>\n",
              "      <th>Cleantech / Semiconductors</th>\n",
              "      <th>Entertainment</th>\n",
              "      <th>Health</th>\n",
              "      <th>Manufacturing</th>\n",
              "      <th>News, Search and Messaging</th>\n",
              "      <th>Others</th>\n",
              "      <th>Social, Finance, Analytics, Advertising</th>\n",
              "    </tr>\n",
              "  </thead>\n",
              "  <tbody>\n",
              "    <tr>\n",
              "      <th>243</th>\n",
              "      <td>Enterprise 2.0</td>\n",
              "      <td>0</td>\n",
              "      <td>0</td>\n",
              "      <td>0</td>\n",
              "      <td>0</td>\n",
              "      <td>0</td>\n",
              "      <td>0</td>\n",
              "      <td>0</td>\n",
              "      <td>1</td>\n",
              "      <td>0</td>\n",
              "    </tr>\n",
              "  </tbody>\n",
              "</table>\n",
              "</div>"
            ],
            "text/plain": [
              "      category_list  ...  Social, Finance, Analytics, Advertising\n",
              "243  Enterprise 2.0  ...                                        0\n",
              "\n",
              "[1 rows x 10 columns]"
            ]
          },
          "metadata": {
            "tags": []
          },
          "execution_count": 50
        }
      ]
    },
    {
      "cell_type": "code",
      "metadata": {
        "id": "qMw2O6GZfWtv",
        "colab_type": "code",
        "colab": {
          "base_uri": "https://localhost:8080/",
          "height": 419
        },
        "outputId": "2bf5607c-22db-4af1-a669-aceb41e49f88"
      },
      "source": [
        "#Assigning each of the sector to its category list\n",
        "mapping_melt = pd.melt(mapping, id_vars=['category_list'],value_vars=['Automotive & Sports','Blanks',\n",
        "       'Cleantech / Semiconductors', 'Entertainment', 'Health','Manufacturing', 'News, Search and Messaging', 'Others',\n",
        "       'Social, Finance, Analytics, Advertising'],var_name='main_sector', value_name='main_sectors_value')\n",
        "\n",
        "mapping_melt"
      ],
      "execution_count": null,
      "outputs": [
        {
          "output_type": "execute_result",
          "data": {
            "text/html": [
              "<div>\n",
              "<style scoped>\n",
              "    .dataframe tbody tr th:only-of-type {\n",
              "        vertical-align: middle;\n",
              "    }\n",
              "\n",
              "    .dataframe tbody tr th {\n",
              "        vertical-align: top;\n",
              "    }\n",
              "\n",
              "    .dataframe thead th {\n",
              "        text-align: right;\n",
              "    }\n",
              "</style>\n",
              "<table border=\"1\" class=\"dataframe\">\n",
              "  <thead>\n",
              "    <tr style=\"text-align: right;\">\n",
              "      <th></th>\n",
              "      <th>category_list</th>\n",
              "      <th>main_sector</th>\n",
              "      <th>main_sectors_value</th>\n",
              "    </tr>\n",
              "  </thead>\n",
              "  <tbody>\n",
              "    <tr>\n",
              "      <th>0</th>\n",
              "      <td>3D</td>\n",
              "      <td>Automotive &amp; Sports</td>\n",
              "      <td>0</td>\n",
              "    </tr>\n",
              "    <tr>\n",
              "      <th>1</th>\n",
              "      <td>3D Printing</td>\n",
              "      <td>Automotive &amp; Sports</td>\n",
              "      <td>0</td>\n",
              "    </tr>\n",
              "    <tr>\n",
              "      <th>2</th>\n",
              "      <td>3D Technology</td>\n",
              "      <td>Automotive &amp; Sports</td>\n",
              "      <td>0</td>\n",
              "    </tr>\n",
              "    <tr>\n",
              "      <th>3</th>\n",
              "      <td>Accounting</td>\n",
              "      <td>Automotive &amp; Sports</td>\n",
              "      <td>0</td>\n",
              "    </tr>\n",
              "    <tr>\n",
              "      <th>4</th>\n",
              "      <td>Active Lifestyle</td>\n",
              "      <td>Automotive &amp; Sports</td>\n",
              "      <td>0</td>\n",
              "    </tr>\n",
              "    <tr>\n",
              "      <th>...</th>\n",
              "      <td>...</td>\n",
              "      <td>...</td>\n",
              "      <td>...</td>\n",
              "    </tr>\n",
              "    <tr>\n",
              "      <th>6178</th>\n",
              "      <td>Wholesale</td>\n",
              "      <td>Social, Finance, Analytics, Advertising</td>\n",
              "      <td>0</td>\n",
              "    </tr>\n",
              "    <tr>\n",
              "      <th>6179</th>\n",
              "      <td>Wine And Spirits</td>\n",
              "      <td>Social, Finance, Analytics, Advertising</td>\n",
              "      <td>0</td>\n",
              "    </tr>\n",
              "    <tr>\n",
              "      <th>6180</th>\n",
              "      <td>Wireless</td>\n",
              "      <td>Social, Finance, Analytics, Advertising</td>\n",
              "      <td>0</td>\n",
              "    </tr>\n",
              "    <tr>\n",
              "      <th>6181</th>\n",
              "      <td>Women</td>\n",
              "      <td>Social, Finance, Analytics, Advertising</td>\n",
              "      <td>0</td>\n",
              "    </tr>\n",
              "    <tr>\n",
              "      <th>6182</th>\n",
              "      <td>Young Adults</td>\n",
              "      <td>Social, Finance, Analytics, Advertising</td>\n",
              "      <td>0</td>\n",
              "    </tr>\n",
              "  </tbody>\n",
              "</table>\n",
              "<p>6183 rows × 3 columns</p>\n",
              "</div>"
            ],
            "text/plain": [
              "         category_list  ... main_sectors_value\n",
              "0                   3D  ...                  0\n",
              "1          3D Printing  ...                  0\n",
              "2        3D Technology  ...                  0\n",
              "3           Accounting  ...                  0\n",
              "4     Active Lifestyle  ...                  0\n",
              "...                ...  ...                ...\n",
              "6178         Wholesale  ...                  0\n",
              "6179  Wine And Spirits  ...                  0\n",
              "6180          Wireless  ...                  0\n",
              "6181             Women  ...                  0\n",
              "6182      Young Adults  ...                  0\n",
              "\n",
              "[6183 rows x 3 columns]"
            ]
          },
          "metadata": {
            "tags": []
          },
          "execution_count": 51
        }
      ]
    },
    {
      "cell_type": "code",
      "metadata": {
        "id": "9D2qlSslfyZr",
        "colab_type": "code",
        "colab": {
          "base_uri": "https://localhost:8080/",
          "height": 221
        },
        "outputId": "6103042f-ad8d-4c46-d205-267fe298cade"
      },
      "source": [
        "#picking only those records that have the main_sectors_value as 1\n",
        "mapping_sector = mapping_melt.loc[mapping_melt.main_sectors_value==1]\n",
        "mapping_sector = mapping_sector.reset_index(drop=True)\n",
        "print(mapping_sector.shape)\n",
        "mapping_sector.head()"
      ],
      "execution_count": null,
      "outputs": [
        {
          "output_type": "stream",
          "text": [
            "(687, 3)\n"
          ],
          "name": "stdout"
        },
        {
          "output_type": "execute_result",
          "data": {
            "text/html": [
              "<div>\n",
              "<style scoped>\n",
              "    .dataframe tbody tr th:only-of-type {\n",
              "        vertical-align: middle;\n",
              "    }\n",
              "\n",
              "    .dataframe tbody tr th {\n",
              "        vertical-align: top;\n",
              "    }\n",
              "\n",
              "    .dataframe thead th {\n",
              "        text-align: right;\n",
              "    }\n",
              "</style>\n",
              "<table border=\"1\" class=\"dataframe\">\n",
              "  <thead>\n",
              "    <tr style=\"text-align: right;\">\n",
              "      <th></th>\n",
              "      <th>category_list</th>\n",
              "      <th>main_sector</th>\n",
              "      <th>main_sectors_value</th>\n",
              "    </tr>\n",
              "  </thead>\n",
              "  <tbody>\n",
              "    <tr>\n",
              "      <th>0</th>\n",
              "      <td>Adventure Travel</td>\n",
              "      <td>Automotive &amp; Sports</td>\n",
              "      <td>1</td>\n",
              "    </tr>\n",
              "    <tr>\n",
              "      <th>1</th>\n",
              "      <td>Aerospace</td>\n",
              "      <td>Automotive &amp; Sports</td>\n",
              "      <td>1</td>\n",
              "    </tr>\n",
              "    <tr>\n",
              "      <th>2</th>\n",
              "      <td>Auto</td>\n",
              "      <td>Automotive &amp; Sports</td>\n",
              "      <td>1</td>\n",
              "    </tr>\n",
              "    <tr>\n",
              "      <th>3</th>\n",
              "      <td>Automated Kiosk</td>\n",
              "      <td>Automotive &amp; Sports</td>\n",
              "      <td>1</td>\n",
              "    </tr>\n",
              "    <tr>\n",
              "      <th>4</th>\n",
              "      <td>Automotive</td>\n",
              "      <td>Automotive &amp; Sports</td>\n",
              "      <td>1</td>\n",
              "    </tr>\n",
              "  </tbody>\n",
              "</table>\n",
              "</div>"
            ],
            "text/plain": [
              "      category_list          main_sector  main_sectors_value\n",
              "0  Adventure Travel  Automotive & Sports                   1\n",
              "1         Aerospace  Automotive & Sports                   1\n",
              "2              Auto  Automotive & Sports                   1\n",
              "3   Automated Kiosk  Automotive & Sports                   1\n",
              "4        Automotive  Automotive & Sports                   1"
            ]
          },
          "metadata": {
            "tags": []
          },
          "execution_count": 52
        }
      ]
    },
    {
      "cell_type": "code",
      "metadata": {
        "id": "B82ej5M8gEvW",
        "colab_type": "code",
        "colab": {
          "base_uri": "https://localhost:8080/",
          "height": 170
        },
        "outputId": "34d354f6-db66-40b8-e989-79856de71bd8"
      },
      "source": [
        "#checking the distict count of the 8 main sectors\n",
        "mapping_sector.main_sector.value_counts()"
      ],
      "execution_count": null,
      "outputs": [
        {
          "output_type": "execute_result",
          "data": {
            "text/plain": [
              "Others                                     195\n",
              "Social, Finance, Analytics, Advertising    153\n",
              "Entertainment                               89\n",
              "News, Search and Messaging                  72\n",
              "Health                                      63\n",
              "Cleantech / Semiconductors                  53\n",
              "Manufacturing                               40\n",
              "Automotive & Sports                         22\n",
              "Name: main_sector, dtype: int64"
            ]
          },
          "metadata": {
            "tags": []
          },
          "execution_count": 53
        }
      ]
    },
    {
      "cell_type": "code",
      "metadata": {
        "id": "XBK9kXoTTNd9",
        "colab_type": "code",
        "colab": {}
      },
      "source": [
        "#Converting the column category list from the mapping dataframe to lowercase and stripping any whitespaces present\n",
        "mapping_sector['category_list'] = mapping_sector.category_list.str.lower()\n",
        "mapping_sector['category_list'] = mapping_sector.category_list.str.strip()\n",
        "\n",
        "#Converting the column primary sector from the master_venture dataframe to lowercase and stripping any whitespaces present\n",
        "master_venture['primary_sector'] = master_venture.primary_sector.str.lower()\n",
        "master_venture['primary_sector'] = master_venture.primary_sector.str.strip()"
      ],
      "execution_count": null,
      "outputs": []
    },
    {
      "cell_type": "code",
      "metadata": {
        "id": "9ebrkKphgMJn",
        "colab_type": "code",
        "colab": {
          "base_uri": "https://localhost:8080/",
          "height": 343
        },
        "outputId": "35d8a092-d0d0-49ef-a79f-d4dba7ae9d15"
      },
      "source": [
        "#renaming the column before the merge\n",
        "mapping_sector = mapping_sector.rename(columns={'category_list':'primary_sector'})\n",
        "\n",
        "#merging the obtained mapping_sector with the master dataframe that contains the venture related information\n",
        "category_merge= master_venture.merge(mapping_sector,how='inner',on='primary_sector')\n",
        "category_merge.drop(columns=['main_sectors_value'],inplace=True)\n",
        "print(category_merge.shape)\n",
        "category_merge.head()"
      ],
      "execution_count": null,
      "outputs": [
        {
          "output_type": "stream",
          "text": [
            "(44716, 12)\n"
          ],
          "name": "stdout"
        },
        {
          "output_type": "execute_result",
          "data": {
            "text/html": [
              "<div>\n",
              "<style scoped>\n",
              "    .dataframe tbody tr th:only-of-type {\n",
              "        vertical-align: middle;\n",
              "    }\n",
              "\n",
              "    .dataframe tbody tr th {\n",
              "        vertical-align: top;\n",
              "    }\n",
              "\n",
              "    .dataframe thead th {\n",
              "        text-align: right;\n",
              "    }\n",
              "</style>\n",
              "<table border=\"1\" class=\"dataframe\">\n",
              "  <thead>\n",
              "    <tr style=\"text-align: right;\">\n",
              "      <th></th>\n",
              "      <th>company_permalink</th>\n",
              "      <th>funding_round_permalink</th>\n",
              "      <th>funding_round_type</th>\n",
              "      <th>funding_round_code</th>\n",
              "      <th>funded_at</th>\n",
              "      <th>raised_amount_usd</th>\n",
              "      <th>name</th>\n",
              "      <th>category_list</th>\n",
              "      <th>status</th>\n",
              "      <th>country_code</th>\n",
              "      <th>primary_sector</th>\n",
              "      <th>main_sector</th>\n",
              "    </tr>\n",
              "  </thead>\n",
              "  <tbody>\n",
              "    <tr>\n",
              "      <th>0</th>\n",
              "      <td>/organization/-fame</td>\n",
              "      <td>/funding-round/9a01d05418af9f794eebff7ace91f638</td>\n",
              "      <td>venture</td>\n",
              "      <td>B</td>\n",
              "      <td>05-01-2015</td>\n",
              "      <td>10000000.0000</td>\n",
              "      <td>fame</td>\n",
              "      <td>Media</td>\n",
              "      <td>operating</td>\n",
              "      <td>IND</td>\n",
              "      <td>media</td>\n",
              "      <td>Entertainment</td>\n",
              "    </tr>\n",
              "    <tr>\n",
              "      <th>1</th>\n",
              "      <td>/organization/90min</td>\n",
              "      <td>/funding-round/21a2cbf6f2fb2a1c2a61e04bf930dfe6</td>\n",
              "      <td>venture</td>\n",
              "      <td>A</td>\n",
              "      <td>06-10-2015</td>\n",
              "      <td>15000000.0000</td>\n",
              "      <td>90min</td>\n",
              "      <td>Media|News|Publishing|Soccer|Sports</td>\n",
              "      <td>operating</td>\n",
              "      <td>GBR</td>\n",
              "      <td>media</td>\n",
              "      <td>Entertainment</td>\n",
              "    </tr>\n",
              "    <tr>\n",
              "      <th>2</th>\n",
              "      <td>/organization/90min</td>\n",
              "      <td>/funding-round/bd626ed022f5c66574b1afe234f3c90d</td>\n",
              "      <td>venture</td>\n",
              "      <td>A</td>\n",
              "      <td>07-05-2013</td>\n",
              "      <td>5800000.0000</td>\n",
              "      <td>90min</td>\n",
              "      <td>Media|News|Publishing|Soccer|Sports</td>\n",
              "      <td>operating</td>\n",
              "      <td>GBR</td>\n",
              "      <td>media</td>\n",
              "      <td>Entertainment</td>\n",
              "    </tr>\n",
              "    <tr>\n",
              "      <th>3</th>\n",
              "      <td>/organization/90min</td>\n",
              "      <td>/funding-round/fd4b15e8c97ee2ffc0acccdbe1a98810</td>\n",
              "      <td>venture</td>\n",
              "      <td>A</td>\n",
              "      <td>26-03-2014</td>\n",
              "      <td>18000000.0000</td>\n",
              "      <td>90min</td>\n",
              "      <td>Media|News|Publishing|Soccer|Sports</td>\n",
              "      <td>operating</td>\n",
              "      <td>GBR</td>\n",
              "      <td>media</td>\n",
              "      <td>Entertainment</td>\n",
              "    </tr>\n",
              "    <tr>\n",
              "      <th>4</th>\n",
              "      <td>/organization/all-def-digital</td>\n",
              "      <td>/funding-round/452a2342fe720285c3b92e9bd927d9ba</td>\n",
              "      <td>venture</td>\n",
              "      <td>A</td>\n",
              "      <td>06-08-2014</td>\n",
              "      <td>5000000.0000</td>\n",
              "      <td>All Def Digital</td>\n",
              "      <td>Media</td>\n",
              "      <td>operating</td>\n",
              "      <td>USA</td>\n",
              "      <td>media</td>\n",
              "      <td>Entertainment</td>\n",
              "    </tr>\n",
              "  </tbody>\n",
              "</table>\n",
              "</div>"
            ],
            "text/plain": [
              "               company_permalink  ...    main_sector\n",
              "0            /organization/-fame  ...  Entertainment\n",
              "1            /organization/90min  ...  Entertainment\n",
              "2            /organization/90min  ...  Entertainment\n",
              "3            /organization/90min  ...  Entertainment\n",
              "4  /organization/all-def-digital  ...  Entertainment\n",
              "\n",
              "[5 rows x 12 columns]"
            ]
          },
          "metadata": {
            "tags": []
          },
          "execution_count": 55
        }
      ]
    },
    {
      "cell_type": "code",
      "metadata": {
        "id": "3asUgDDwnLe6",
        "colab_type": "code",
        "colab": {
          "base_uri": "https://localhost:8080/",
          "height": 102
        },
        "outputId": "fe6e4945-5a21-458b-fca3-50f7d301a5bc"
      },
      "source": [
        "#verifying the column names if 'primary_sector' and 'main_sector' are added\n",
        "category_merge.columns"
      ],
      "execution_count": null,
      "outputs": [
        {
          "output_type": "execute_result",
          "data": {
            "text/plain": [
              "Index(['company_permalink', 'funding_round_permalink', 'funding_round_type',\n",
              "       'funding_round_code', 'funded_at', 'raised_amount_usd', 'name',\n",
              "       'category_list', 'status', 'country_code', 'primary_sector',\n",
              "       'main_sector'],\n",
              "      dtype='object')"
            ]
          },
          "metadata": {
            "tags": []
          },
          "execution_count": 56
        }
      ]
    },
    {
      "cell_type": "markdown",
      "metadata": {
        "id": "FCiYfejQ6Tj-",
        "colab_type": "text"
      },
      "source": [
        "##Checkpoint 5: Sector Analysis 2\n",
        "\n",
        "\n",
        "---\n",
        "Identifying top3 sectors to invest between 5 and 15 million USD"
      ]
    },
    {
      "cell_type": "code",
      "metadata": {
        "id": "GEht_gPJgd9c",
        "colab_type": "code",
        "colab": {}
      },
      "source": [
        "#creating 3 df's with investment range between 5 and 15 million USD\n",
        "D1= category_merge.loc[(category_merge.raised_amount_usd>=5000000)&(category_merge.raised_amount_usd<=15000000)&(category_merge.country_code=='USA')]\n",
        "D2= category_merge.loc[(category_merge.raised_amount_usd>=5000000)&(category_merge.raised_amount_usd<=15000000)&(category_merge.country_code=='GBR')]\n",
        "D3= category_merge.loc[(category_merge.raised_amount_usd>=5000000)&(category_merge.raised_amount_usd<=15000000)&(category_merge.country_code=='IND')]"
      ],
      "execution_count": null,
      "outputs": []
    },
    {
      "cell_type": "markdown",
      "metadata": {
        "id": "B-md76tvk4Sk",
        "colab_type": "text"
      },
      "source": [
        "Creating The total number (or count) of investments for each main sector in a separate column and The total amount invested in each main sector in a separate column for each of the df created above"
      ]
    },
    {
      "cell_type": "code",
      "metadata": {
        "id": "g74dyVy08fLz",
        "colab_type": "code",
        "colab": {}
      },
      "source": [
        "#creating a function to create 2 new columns of count and total_amount_invested\n",
        "def add_col(df):\n",
        "  df['count_of_investements_main_sector'] = df.groupby('main_sector')['raised_amount_usd'].transform('count')\n",
        "  df['total_amount_invested_main_sector'] = df.groupby('main_sector')['raised_amount_usd'].transform('sum')\n",
        "  return df"
      ],
      "execution_count": null,
      "outputs": []
    },
    {
      "cell_type": "code",
      "metadata": {
        "id": "VnSEGtlM9Gbw",
        "colab_type": "code",
        "colab": {
          "base_uri": "https://localhost:8080/",
          "height": 360
        },
        "outputId": "533007b6-b75e-4421-a0b8-77d7b6eee6b3"
      },
      "source": [
        "D1 = add_col(D1)\n",
        "print(\"Shape of the dataframe containing USA details:\", D1.shape)\n",
        "D1.head()"
      ],
      "execution_count": null,
      "outputs": [
        {
          "output_type": "stream",
          "text": [
            "Shape of the dataframe containing USA details: (11286, 14)\n"
          ],
          "name": "stdout"
        },
        {
          "output_type": "execute_result",
          "data": {
            "text/html": [
              "<div>\n",
              "<style scoped>\n",
              "    .dataframe tbody tr th:only-of-type {\n",
              "        vertical-align: middle;\n",
              "    }\n",
              "\n",
              "    .dataframe tbody tr th {\n",
              "        vertical-align: top;\n",
              "    }\n",
              "\n",
              "    .dataframe thead th {\n",
              "        text-align: right;\n",
              "    }\n",
              "</style>\n",
              "<table border=\"1\" class=\"dataframe\">\n",
              "  <thead>\n",
              "    <tr style=\"text-align: right;\">\n",
              "      <th></th>\n",
              "      <th>company_permalink</th>\n",
              "      <th>funding_round_permalink</th>\n",
              "      <th>funding_round_type</th>\n",
              "      <th>funding_round_code</th>\n",
              "      <th>funded_at</th>\n",
              "      <th>raised_amount_usd</th>\n",
              "      <th>name</th>\n",
              "      <th>category_list</th>\n",
              "      <th>status</th>\n",
              "      <th>country_code</th>\n",
              "      <th>primary_sector</th>\n",
              "      <th>main_sector</th>\n",
              "      <th>count_of_investements_main_sector</th>\n",
              "      <th>total_amount_invested_main_sector</th>\n",
              "    </tr>\n",
              "  </thead>\n",
              "  <tbody>\n",
              "    <tr>\n",
              "      <th>4</th>\n",
              "      <td>/organization/all-def-digital</td>\n",
              "      <td>/funding-round/452a2342fe720285c3b92e9bd927d9ba</td>\n",
              "      <td>venture</td>\n",
              "      <td>A</td>\n",
              "      <td>06-08-2014</td>\n",
              "      <td>5000000.0000</td>\n",
              "      <td>All Def Digital</td>\n",
              "      <td>Media</td>\n",
              "      <td>operating</td>\n",
              "      <td>USA</td>\n",
              "      <td>media</td>\n",
              "      <td>Entertainment</td>\n",
              "      <td>531</td>\n",
              "      <td>4602749912.0000</td>\n",
              "    </tr>\n",
              "    <tr>\n",
              "      <th>14</th>\n",
              "      <td>/organization/chefs-feed</td>\n",
              "      <td>/funding-round/adca195749ae9ace84684723fbe75e5b</td>\n",
              "      <td>venture</td>\n",
              "      <td>A</td>\n",
              "      <td>26-02-2015</td>\n",
              "      <td>5000000.0000</td>\n",
              "      <td>ChefsFeed</td>\n",
              "      <td>Media|Mobile|Restaurants|Technology</td>\n",
              "      <td>operating</td>\n",
              "      <td>USA</td>\n",
              "      <td>media</td>\n",
              "      <td>Entertainment</td>\n",
              "      <td>531</td>\n",
              "      <td>4602749912.0000</td>\n",
              "    </tr>\n",
              "    <tr>\n",
              "      <th>20</th>\n",
              "      <td>/organization/huffingtonpost</td>\n",
              "      <td>/funding-round/7f05940c4d2dfecb8e50a0e5720e5065</td>\n",
              "      <td>venture</td>\n",
              "      <td>A</td>\n",
              "      <td>01-08-2006</td>\n",
              "      <td>5000000.0000</td>\n",
              "      <td>The Huffington Post</td>\n",
              "      <td>Media|News|Publishing</td>\n",
              "      <td>acquired</td>\n",
              "      <td>USA</td>\n",
              "      <td>media</td>\n",
              "      <td>Entertainment</td>\n",
              "      <td>531</td>\n",
              "      <td>4602749912.0000</td>\n",
              "    </tr>\n",
              "    <tr>\n",
              "      <th>21</th>\n",
              "      <td>/organization/huffingtonpost</td>\n",
              "      <td>/funding-round/9241ae16e08df17ebdc064e49e23035a</td>\n",
              "      <td>venture</td>\n",
              "      <td>B</td>\n",
              "      <td>01-09-2007</td>\n",
              "      <td>5000000.0000</td>\n",
              "      <td>The Huffington Post</td>\n",
              "      <td>Media|News|Publishing</td>\n",
              "      <td>acquired</td>\n",
              "      <td>USA</td>\n",
              "      <td>media</td>\n",
              "      <td>Entertainment</td>\n",
              "      <td>531</td>\n",
              "      <td>4602749912.0000</td>\n",
              "    </tr>\n",
              "    <tr>\n",
              "      <th>30</th>\n",
              "      <td>/organization/mediabong</td>\n",
              "      <td>/funding-round/9282890ca87072025dc1807f400acee6</td>\n",
              "      <td>venture</td>\n",
              "      <td>B</td>\n",
              "      <td>13-05-2015</td>\n",
              "      <td>5000000.0000</td>\n",
              "      <td>MEDIABONG</td>\n",
              "      <td>Media|Semantic Search|Video</td>\n",
              "      <td>operating</td>\n",
              "      <td>USA</td>\n",
              "      <td>media</td>\n",
              "      <td>Entertainment</td>\n",
              "      <td>531</td>\n",
              "      <td>4602749912.0000</td>\n",
              "    </tr>\n",
              "  </tbody>\n",
              "</table>\n",
              "</div>"
            ],
            "text/plain": [
              "                company_permalink  ... total_amount_invested_main_sector\n",
              "4   /organization/all-def-digital  ...                   4602749912.0000\n",
              "14       /organization/chefs-feed  ...                   4602749912.0000\n",
              "20   /organization/huffingtonpost  ...                   4602749912.0000\n",
              "21   /organization/huffingtonpost  ...                   4602749912.0000\n",
              "30        /organization/mediabong  ...                   4602749912.0000\n",
              "\n",
              "[5 rows x 14 columns]"
            ]
          },
          "metadata": {
            "tags": []
          },
          "execution_count": 59
        }
      ]
    },
    {
      "cell_type": "code",
      "metadata": {
        "id": "KuqZe6VVlsiK",
        "colab_type": "code",
        "colab": {
          "base_uri": "https://localhost:8080/",
          "height": 377
        },
        "outputId": "52dc7713-b6ae-4254-f1b0-7576e1b9153e"
      },
      "source": [
        "D2 = add_col(D2)\n",
        "print(\"Shape of the dataframe containing GBR details:\",D2.shape)\n",
        "D2.head()"
      ],
      "execution_count": null,
      "outputs": [
        {
          "output_type": "stream",
          "text": [
            "Shape of the dataframe containing GBR details: (582, 14)\n"
          ],
          "name": "stdout"
        },
        {
          "output_type": "execute_result",
          "data": {
            "text/html": [
              "<div>\n",
              "<style scoped>\n",
              "    .dataframe tbody tr th:only-of-type {\n",
              "        vertical-align: middle;\n",
              "    }\n",
              "\n",
              "    .dataframe tbody tr th {\n",
              "        vertical-align: top;\n",
              "    }\n",
              "\n",
              "    .dataframe thead th {\n",
              "        text-align: right;\n",
              "    }\n",
              "</style>\n",
              "<table border=\"1\" class=\"dataframe\">\n",
              "  <thead>\n",
              "    <tr style=\"text-align: right;\">\n",
              "      <th></th>\n",
              "      <th>company_permalink</th>\n",
              "      <th>funding_round_permalink</th>\n",
              "      <th>funding_round_type</th>\n",
              "      <th>funding_round_code</th>\n",
              "      <th>funded_at</th>\n",
              "      <th>raised_amount_usd</th>\n",
              "      <th>name</th>\n",
              "      <th>category_list</th>\n",
              "      <th>status</th>\n",
              "      <th>country_code</th>\n",
              "      <th>primary_sector</th>\n",
              "      <th>main_sector</th>\n",
              "      <th>count_of_investements_main_sector</th>\n",
              "      <th>total_amount_invested_main_sector</th>\n",
              "    </tr>\n",
              "  </thead>\n",
              "  <tbody>\n",
              "    <tr>\n",
              "      <th>1</th>\n",
              "      <td>/organization/90min</td>\n",
              "      <td>/funding-round/21a2cbf6f2fb2a1c2a61e04bf930dfe6</td>\n",
              "      <td>venture</td>\n",
              "      <td>A</td>\n",
              "      <td>06-10-2015</td>\n",
              "      <td>15000000.0000</td>\n",
              "      <td>90min</td>\n",
              "      <td>Media|News|Publishing|Soccer|Sports</td>\n",
              "      <td>operating</td>\n",
              "      <td>GBR</td>\n",
              "      <td>media</td>\n",
              "      <td>Entertainment</td>\n",
              "      <td>53</td>\n",
              "      <td>463514687.0000</td>\n",
              "    </tr>\n",
              "    <tr>\n",
              "      <th>2</th>\n",
              "      <td>/organization/90min</td>\n",
              "      <td>/funding-round/bd626ed022f5c66574b1afe234f3c90d</td>\n",
              "      <td>venture</td>\n",
              "      <td>A</td>\n",
              "      <td>07-05-2013</td>\n",
              "      <td>5800000.0000</td>\n",
              "      <td>90min</td>\n",
              "      <td>Media|News|Publishing|Soccer|Sports</td>\n",
              "      <td>operating</td>\n",
              "      <td>GBR</td>\n",
              "      <td>media</td>\n",
              "      <td>Entertainment</td>\n",
              "      <td>53</td>\n",
              "      <td>463514687.0000</td>\n",
              "    </tr>\n",
              "    <tr>\n",
              "      <th>118</th>\n",
              "      <td>/organization/azimo</td>\n",
              "      <td>/funding-round/5eb768935cf9c60b402944b0f476baae</td>\n",
              "      <td>venture</td>\n",
              "      <td>A</td>\n",
              "      <td>11-03-2014</td>\n",
              "      <td>10000000.0000</td>\n",
              "      <td>Azimo</td>\n",
              "      <td>Curated Web|Finance Technology|Financial Servi...</td>\n",
              "      <td>operating</td>\n",
              "      <td>GBR</td>\n",
              "      <td>curated web</td>\n",
              "      <td>News, Search and Messaging</td>\n",
              "      <td>66</td>\n",
              "      <td>558500705.0000</td>\n",
              "    </tr>\n",
              "    <tr>\n",
              "      <th>129</th>\n",
              "      <td>/organization/basekit-platform</td>\n",
              "      <td>/funding-round/8252cd70860ec66a1c7d13b6a2519dc6</td>\n",
              "      <td>venture</td>\n",
              "      <td>A</td>\n",
              "      <td>13-05-2014</td>\n",
              "      <td>7000000.0000</td>\n",
              "      <td>BaseKit</td>\n",
              "      <td>Curated Web|Internet|Web Design</td>\n",
              "      <td>operating</td>\n",
              "      <td>GBR</td>\n",
              "      <td>curated web</td>\n",
              "      <td>News, Search and Messaging</td>\n",
              "      <td>66</td>\n",
              "      <td>558500705.0000</td>\n",
              "    </tr>\n",
              "    <tr>\n",
              "      <th>130</th>\n",
              "      <td>/organization/basekit-platform</td>\n",
              "      <td>/funding-round/9ceb098a822fb971db490b23c1067336</td>\n",
              "      <td>venture</td>\n",
              "      <td>A</td>\n",
              "      <td>03-02-2014</td>\n",
              "      <td>6818631.0000</td>\n",
              "      <td>BaseKit</td>\n",
              "      <td>Curated Web|Internet|Web Design</td>\n",
              "      <td>operating</td>\n",
              "      <td>GBR</td>\n",
              "      <td>curated web</td>\n",
              "      <td>News, Search and Messaging</td>\n",
              "      <td>66</td>\n",
              "      <td>558500705.0000</td>\n",
              "    </tr>\n",
              "  </tbody>\n",
              "</table>\n",
              "</div>"
            ],
            "text/plain": [
              "                  company_permalink  ... total_amount_invested_main_sector\n",
              "1               /organization/90min  ...                    463514687.0000\n",
              "2               /organization/90min  ...                    463514687.0000\n",
              "118             /organization/azimo  ...                    558500705.0000\n",
              "129  /organization/basekit-platform  ...                    558500705.0000\n",
              "130  /organization/basekit-platform  ...                    558500705.0000\n",
              "\n",
              "[5 rows x 14 columns]"
            ]
          },
          "metadata": {
            "tags": []
          },
          "execution_count": 60
        }
      ]
    },
    {
      "cell_type": "code",
      "metadata": {
        "id": "OUEHEdCsl4b3",
        "colab_type": "code",
        "colab": {
          "base_uri": "https://localhost:8080/",
          "height": 394
        },
        "outputId": "23be485c-f59d-4c6e-e9f8-97ea81a8844a"
      },
      "source": [
        "D3 = add_col(D3)\n",
        "print(\"Shape of the dataframe containing IND details:\",D3.shape)\n",
        "D3.head()"
      ],
      "execution_count": null,
      "outputs": [
        {
          "output_type": "stream",
          "text": [
            "Shape of the dataframe containing IND details: (315, 14)\n"
          ],
          "name": "stdout"
        },
        {
          "output_type": "execute_result",
          "data": {
            "text/html": [
              "<div>\n",
              "<style scoped>\n",
              "    .dataframe tbody tr th:only-of-type {\n",
              "        vertical-align: middle;\n",
              "    }\n",
              "\n",
              "    .dataframe tbody tr th {\n",
              "        vertical-align: top;\n",
              "    }\n",
              "\n",
              "    .dataframe thead th {\n",
              "        text-align: right;\n",
              "    }\n",
              "</style>\n",
              "<table border=\"1\" class=\"dataframe\">\n",
              "  <thead>\n",
              "    <tr style=\"text-align: right;\">\n",
              "      <th></th>\n",
              "      <th>company_permalink</th>\n",
              "      <th>funding_round_permalink</th>\n",
              "      <th>funding_round_type</th>\n",
              "      <th>funding_round_code</th>\n",
              "      <th>funded_at</th>\n",
              "      <th>raised_amount_usd</th>\n",
              "      <th>name</th>\n",
              "      <th>category_list</th>\n",
              "      <th>status</th>\n",
              "      <th>country_code</th>\n",
              "      <th>primary_sector</th>\n",
              "      <th>main_sector</th>\n",
              "      <th>count_of_investements_main_sector</th>\n",
              "      <th>total_amount_invested_main_sector</th>\n",
              "    </tr>\n",
              "  </thead>\n",
              "  <tbody>\n",
              "    <tr>\n",
              "      <th>0</th>\n",
              "      <td>/organization/-fame</td>\n",
              "      <td>/funding-round/9a01d05418af9f794eebff7ace91f638</td>\n",
              "      <td>venture</td>\n",
              "      <td>B</td>\n",
              "      <td>05-01-2015</td>\n",
              "      <td>10000000.0000</td>\n",
              "      <td>fame</td>\n",
              "      <td>Media</td>\n",
              "      <td>operating</td>\n",
              "      <td>IND</td>\n",
              "      <td>media</td>\n",
              "      <td>Entertainment</td>\n",
              "      <td>32</td>\n",
              "      <td>272080000.0000</td>\n",
              "    </tr>\n",
              "    <tr>\n",
              "      <th>120</th>\n",
              "      <td>/organization/babajob</td>\n",
              "      <td>/funding-round/b72eaac5ea12ac0f50573ac3d6d46b8d</td>\n",
              "      <td>venture</td>\n",
              "      <td>B</td>\n",
              "      <td>28-04-2015</td>\n",
              "      <td>10000000.0000</td>\n",
              "      <td>Babajob</td>\n",
              "      <td>Curated Web|Information Technology|Services|St...</td>\n",
              "      <td>operating</td>\n",
              "      <td>IND</td>\n",
              "      <td>curated web</td>\n",
              "      <td>News, Search and Messaging</td>\n",
              "      <td>49</td>\n",
              "      <td>408834545.0000</td>\n",
              "    </tr>\n",
              "    <tr>\n",
              "      <th>142</th>\n",
              "      <td>/organization/bharat-matrimony</td>\n",
              "      <td>/funding-round/e37673bc7b0f1dfd3782f8f7abdb9ec8</td>\n",
              "      <td>venture</td>\n",
              "      <td>B</td>\n",
              "      <td>05-02-2008</td>\n",
              "      <td>11750000.0000</td>\n",
              "      <td>Bharat Matrimony</td>\n",
              "      <td>Curated Web|Match-Making</td>\n",
              "      <td>operating</td>\n",
              "      <td>IND</td>\n",
              "      <td>curated web</td>\n",
              "      <td>News, Search and Messaging</td>\n",
              "      <td>49</td>\n",
              "      <td>408834545.0000</td>\n",
              "    </tr>\n",
              "    <tr>\n",
              "      <th>164</th>\n",
              "      <td>/organization/bluestone-com</td>\n",
              "      <td>/funding-round/452a7fc1f34df2d3dcda4e28234bc671</td>\n",
              "      <td>venture</td>\n",
              "      <td>A</td>\n",
              "      <td>24-01-2012</td>\n",
              "      <td>5000000.0000</td>\n",
              "      <td>Bluestone.com</td>\n",
              "      <td>Curated Web</td>\n",
              "      <td>operating</td>\n",
              "      <td>IND</td>\n",
              "      <td>curated web</td>\n",
              "      <td>News, Search and Messaging</td>\n",
              "      <td>49</td>\n",
              "      <td>408834545.0000</td>\n",
              "    </tr>\n",
              "    <tr>\n",
              "      <th>166</th>\n",
              "      <td>/organization/bluestone-com</td>\n",
              "      <td>/funding-round/f5b252d6442ce231bb01586ca1821f63</td>\n",
              "      <td>venture</td>\n",
              "      <td>B</td>\n",
              "      <td>18-03-2014</td>\n",
              "      <td>10000000.0000</td>\n",
              "      <td>Bluestone.com</td>\n",
              "      <td>Curated Web</td>\n",
              "      <td>operating</td>\n",
              "      <td>IND</td>\n",
              "      <td>curated web</td>\n",
              "      <td>News, Search and Messaging</td>\n",
              "      <td>49</td>\n",
              "      <td>408834545.0000</td>\n",
              "    </tr>\n",
              "  </tbody>\n",
              "</table>\n",
              "</div>"
            ],
            "text/plain": [
              "                  company_permalink  ... total_amount_invested_main_sector\n",
              "0               /organization/-fame  ...                    272080000.0000\n",
              "120           /organization/babajob  ...                    408834545.0000\n",
              "142  /organization/bharat-matrimony  ...                    408834545.0000\n",
              "164     /organization/bluestone-com  ...                    408834545.0000\n",
              "166     /organization/bluestone-com  ...                    408834545.0000\n",
              "\n",
              "[5 rows x 14 columns]"
            ]
          },
          "metadata": {
            "tags": []
          },
          "execution_count": 61
        }
      ]
    },
    {
      "cell_type": "markdown",
      "metadata": {
        "id": "0AfV_mVpmvai",
        "colab_type": "text"
      },
      "source": [
        "###Country wise Analysis"
      ]
    },
    {
      "cell_type": "code",
      "metadata": {
        "id": "KiNsOBEKnOnM",
        "colab_type": "code",
        "colab": {
          "base_uri": "https://localhost:8080/",
          "height": 68
        },
        "outputId": "471dfd82-81ba-4019-fb18-bda438de9057"
      },
      "source": [
        "#Total Number of Investments\n",
        "print(\"Total Number of Investments in USA:\", len(D1.index))\n",
        "print(\"Total Number of Investments in GBR:\", len(D2.index))\n",
        "print(\"Total Number of Investments in IND:\", len(D3.index))"
      ],
      "execution_count": null,
      "outputs": [
        {
          "output_type": "stream",
          "text": [
            "Total Number of Investments in USA: 11286\n",
            "Total Number of Investments in GBR: 582\n",
            "Total Number of Investments in IND: 315\n"
          ],
          "name": "stdout"
        }
      ]
    },
    {
      "cell_type": "code",
      "metadata": {
        "id": "Ukc0YxVd8oZz",
        "colab_type": "code",
        "colab": {
          "base_uri": "https://localhost:8080/",
          "height": 68
        },
        "outputId": "287f3212-d6a0-4418-c1be-0d9dd6940845"
      },
      "source": [
        "#Total Investments\n",
        "print(\"Total Amount of Investment(USD) in USA:\", D1.raised_amount_usd.sum())\n",
        "print(\"Total Amount of Investment(USD) in GBR:\",D2.raised_amount_usd.sum())\n",
        "print(\"Total Amount of Investment(USD) in IND:\",D3.raised_amount_usd.sum())"
      ],
      "execution_count": null,
      "outputs": [
        {
          "output_type": "stream",
          "text": [
            "Total Amount of Investment(USD) in USA: 101000666779.0\n",
            "Total Amount of Investment(USD) in GBR: 5053293406.0\n",
            "Total Amount of Investment(USD) in IND: 2820673602.0\n"
          ],
          "name": "stdout"
        }
      ]
    },
    {
      "cell_type": "code",
      "metadata": {
        "id": "2tDbfFJamnyY",
        "colab_type": "code",
        "colab": {
          "base_uri": "https://localhost:8080/",
          "height": 85
        },
        "outputId": "7ca96d7f-40fa-449c-ebd7-e99c1910d4d0"
      },
      "source": [
        "#Top3 main_sectors in USA\n",
        "D1.main_sector.value_counts()[:3]"
      ],
      "execution_count": null,
      "outputs": [
        {
          "output_type": "execute_result",
          "data": {
            "text/plain": [
              "Others                                     2758\n",
              "Social, Finance, Analytics, Advertising    2590\n",
              "Cleantech / Semiconductors                 2192\n",
              "Name: main_sector, dtype: int64"
            ]
          },
          "metadata": {
            "tags": []
          },
          "execution_count": 64
        }
      ]
    },
    {
      "cell_type": "code",
      "metadata": {
        "id": "nbv8NnoDm11g",
        "colab_type": "code",
        "colab": {
          "base_uri": "https://localhost:8080/",
          "height": 85
        },
        "outputId": "acc4fbe4-c88a-4d74-bfc0-87e923852d47"
      },
      "source": [
        "#Top3 main_sectors in GBR\n",
        "D2.main_sector.value_counts()[:3]"
      ],
      "execution_count": null,
      "outputs": [
        {
          "output_type": "execute_result",
          "data": {
            "text/plain": [
              "Others                                     140\n",
              "Social, Finance, Analytics, Advertising    128\n",
              "Cleantech / Semiconductors                 116\n",
              "Name: main_sector, dtype: int64"
            ]
          },
          "metadata": {
            "tags": []
          },
          "execution_count": 65
        }
      ]
    },
    {
      "cell_type": "code",
      "metadata": {
        "id": "smyRLJm9m5kY",
        "colab_type": "code",
        "colab": {
          "base_uri": "https://localhost:8080/",
          "height": 85
        },
        "outputId": "a4340fa8-a14c-4bc0-e600-22f330879c1c"
      },
      "source": [
        "#Top3 main_sectors in IND\n",
        "D3.main_sector.value_counts()[:3]"
      ],
      "execution_count": null,
      "outputs": [
        {
          "output_type": "execute_result",
          "data": {
            "text/plain": [
              "Others                                     103\n",
              "Social, Finance, Analytics, Advertising     59\n",
              "News, Search and Messaging                  49\n",
              "Name: main_sector, dtype: int64"
            ]
          },
          "metadata": {
            "tags": []
          },
          "execution_count": 66
        }
      ]
    },
    {
      "cell_type": "code",
      "metadata": {
        "id": "W82Ey9V-DrdI",
        "colab_type": "code",
        "colab": {
          "base_uri": "https://localhost:8080/",
          "height": 513
        },
        "outputId": "5da54b19-64dc-4719-db4f-5530715a338a"
      },
      "source": [
        "#Plot for top3 countries with top3 sectors\n",
        "#orgaizing the information required to plot the graph\n",
        "us_3 = D1.main_sector.value_counts().keys().tolist()[:3]\n",
        "country1 = D1.loc[D1.main_sector.isin(us_3)]\n",
        "\n",
        "uk_3 = D2.main_sector.value_counts().keys().tolist()[:3]\n",
        "country2 = D2.loc[D2.main_sector.isin(uk_3)]\n",
        "\n",
        "ind_3 = D3.main_sector.value_counts().keys().tolist()[:3]\n",
        "country3 = D3.loc[D3.main_sector.isin(ind_3)]\n",
        "\n",
        "sector_top3 = pd.concat([country1,country2,country3])\n",
        "\n",
        "\n",
        "ax = plt.figure(figsize=(12,8))\n",
        "ax = sns.countplot(x='country_code', hue='main_sector', data=sector_top3, palette='Set2')\n",
        "plt.yscale(\"log\")\n",
        "ax.set_xlabel(\"Top3 English Speaking Countries\")\n",
        "ax.set_ylabel(\"Number of Investments in the top3 sectors(log scale)\")\n",
        "ax.set_yticks([50,100,150,500,1000,2000,2500])\n",
        "ax.yaxis.set_major_formatter(ticker.ScalarFormatter())\n",
        "\n",
        "ax.yaxis.set_minor_formatter(ticker.NullFormatter())\n",
        "plt.title('top3 sectors in top3 invested Enlish-speaking countries')\n",
        "\n",
        "\n",
        "plt.show()"
      ],
      "execution_count": null,
      "outputs": [
        {
          "output_type": "display_data",
          "data": {
            "image/png": "[encoded data removed]",
            "text/plain": [
              "<Figure size 864x576 with 1 Axes>"
            ]
          },
          "metadata": {
            "tags": [],
            "needs_background": "light"
          }
        }
      ]
    },
    {
      "cell_type": "markdown",
      "metadata": {
        "id": "FAH_z-fl52mz",
        "colab_type": "text"
      },
      "source": [
        "Checkpoint 6 Plots3 is as shown in the above graph.\n",
        "\n",
        "This plot shows the number of investments in the top 3 sectors of the top 3 countries on one chart (for the chosen investment type 'venture'). \n",
        "\n"
      ]
    },
    {
      "cell_type": "markdown",
      "metadata": {
        "id": "0-BSbGCJAI2R",
        "colab_type": "text"
      },
      "source": [
        "Companies that received the highest investment for the top2 sectors"
      ]
    },
    {
      "cell_type": "code",
      "metadata": {
        "id": "Qf4AUTyz9o9Z",
        "colab_type": "code",
        "colab": {}
      },
      "source": [
        "#defining a function to find the comapnies \n",
        "def comp_name(df,sector):\n",
        "  t1 = df.loc[df.main_sector==sector]\n",
        "  t1 = t1.groupby(['company_permalink','name','country_code','main_sector'],sort=False)['raised_amount_usd'].sum().to_frame().reset_index()\n",
        "  return(t1.loc[t1.raised_amount_usd==t1.raised_amount_usd.max()])"
      ],
      "execution_count": null,
      "outputs": []
    },
    {
      "cell_type": "code",
      "metadata": {
        "id": "vnS-BsR5B1ZL",
        "colab_type": "code",
        "colab": {
          "base_uri": "https://localhost:8080/",
          "height": 142
        },
        "outputId": "3c8aaeae-4d01-4ea0-8a38-c44fe6a2a7e8"
      },
      "source": [
        "#making use of the list created for plotting to get the top sector name\n",
        "c11 = comp_name(D1, us_3[0])\n",
        "c12 = comp_name(D2, uk_3[0])\n",
        "c13 = comp_name(D3, ind_3[0])\n",
        "company_top_sector = pd.concat([c11,c12,c13])\n",
        "company_top_sector = company_top_sector.reset_index(drop=True)\n",
        "company_top_sector"
      ],
      "execution_count": null,
      "outputs": [
        {
          "output_type": "execute_result",
          "data": {
            "text/html": [
              "<div>\n",
              "<style scoped>\n",
              "    .dataframe tbody tr th:only-of-type {\n",
              "        vertical-align: middle;\n",
              "    }\n",
              "\n",
              "    .dataframe tbody tr th {\n",
              "        vertical-align: top;\n",
              "    }\n",
              "\n",
              "    .dataframe thead th {\n",
              "        text-align: right;\n",
              "    }\n",
              "</style>\n",
              "<table border=\"1\" class=\"dataframe\">\n",
              "  <thead>\n",
              "    <tr style=\"text-align: right;\">\n",
              "      <th></th>\n",
              "      <th>company_permalink</th>\n",
              "      <th>name</th>\n",
              "      <th>country_code</th>\n",
              "      <th>main_sector</th>\n",
              "      <th>raised_amount_usd</th>\n",
              "    </tr>\n",
              "  </thead>\n",
              "  <tbody>\n",
              "    <tr>\n",
              "      <th>0</th>\n",
              "      <td>/organization/virtustream</td>\n",
              "      <td>Virtustream</td>\n",
              "      <td>USA</td>\n",
              "      <td>Others</td>\n",
              "      <td>64300000.0000</td>\n",
              "    </tr>\n",
              "    <tr>\n",
              "      <th>1</th>\n",
              "      <td>/organization/electric-cloud</td>\n",
              "      <td>Electric Cloud</td>\n",
              "      <td>GBR</td>\n",
              "      <td>Others</td>\n",
              "      <td>37000000.0000</td>\n",
              "    </tr>\n",
              "    <tr>\n",
              "      <th>2</th>\n",
              "      <td>/organization/firstcry-com</td>\n",
              "      <td>FirstCry.com</td>\n",
              "      <td>IND</td>\n",
              "      <td>Others</td>\n",
              "      <td>39000000.0000</td>\n",
              "    </tr>\n",
              "  </tbody>\n",
              "</table>\n",
              "</div>"
            ],
            "text/plain": [
              "              company_permalink            name  ... main_sector raised_amount_usd\n",
              "0     /organization/virtustream     Virtustream  ...      Others     64300000.0000\n",
              "1  /organization/electric-cloud  Electric Cloud  ...      Others     37000000.0000\n",
              "2    /organization/firstcry-com    FirstCry.com  ...      Others     39000000.0000\n",
              "\n",
              "[3 rows x 5 columns]"
            ]
          },
          "metadata": {
            "tags": []
          },
          "execution_count": 69
        }
      ]
    },
    {
      "cell_type": "code",
      "metadata": {
        "id": "fT1RFEfr-GVc",
        "colab_type": "code",
        "colab": {
          "base_uri": "https://localhost:8080/",
          "height": 142
        },
        "outputId": "8ad7ae15-f295-46bd-ee99-44fc682e90ba"
      },
      "source": [
        "#making use of the list created for plotting to get the top second sector name\n",
        "c21 = comp_name(D1, us_3[1])\n",
        "c22 = comp_name(D2, uk_3[1])\n",
        "c23 = comp_name(D3, ind_3[1])\n",
        "company_top2_sector = pd.concat([c21,c22,c23])\n",
        "company_top2_sector = company_top2_sector.reset_index(drop=True)\n",
        "company_top2_sector"
      ],
      "execution_count": null,
      "outputs": [
        {
          "output_type": "execute_result",
          "data": {
            "text/html": [
              "<div>\n",
              "<style scoped>\n",
              "    .dataframe tbody tr th:only-of-type {\n",
              "        vertical-align: middle;\n",
              "    }\n",
              "\n",
              "    .dataframe tbody tr th {\n",
              "        vertical-align: top;\n",
              "    }\n",
              "\n",
              "    .dataframe thead th {\n",
              "        text-align: right;\n",
              "    }\n",
              "</style>\n",
              "<table border=\"1\" class=\"dataframe\">\n",
              "  <thead>\n",
              "    <tr style=\"text-align: right;\">\n",
              "      <th></th>\n",
              "      <th>company_permalink</th>\n",
              "      <th>name</th>\n",
              "      <th>country_code</th>\n",
              "      <th>main_sector</th>\n",
              "      <th>raised_amount_usd</th>\n",
              "    </tr>\n",
              "  </thead>\n",
              "  <tbody>\n",
              "    <tr>\n",
              "      <th>0</th>\n",
              "      <td>/organization/shotspotter</td>\n",
              "      <td>SST Inc. Formerly ShotSpotter</td>\n",
              "      <td>USA</td>\n",
              "      <td>Social, Finance, Analytics, Advertising</td>\n",
              "      <td>67933006.0000</td>\n",
              "    </tr>\n",
              "    <tr>\n",
              "      <th>1</th>\n",
              "      <td>/organization/celltick-technologies</td>\n",
              "      <td>Celltick Technologies</td>\n",
              "      <td>GBR</td>\n",
              "      <td>Social, Finance, Analytics, Advertising</td>\n",
              "      <td>37500000.0000</td>\n",
              "    </tr>\n",
              "    <tr>\n",
              "      <th>2</th>\n",
              "      <td>/organization/manthan-systems</td>\n",
              "      <td>Manthan Systems</td>\n",
              "      <td>IND</td>\n",
              "      <td>Social, Finance, Analytics, Advertising</td>\n",
              "      <td>50700000.0000</td>\n",
              "    </tr>\n",
              "  </tbody>\n",
              "</table>\n",
              "</div>"
            ],
            "text/plain": [
              "                     company_permalink  ... raised_amount_usd\n",
              "0            /organization/shotspotter  ...     67933006.0000\n",
              "1  /organization/celltick-technologies  ...     37500000.0000\n",
              "2        /organization/manthan-systems  ...     50700000.0000\n",
              "\n",
              "[3 rows x 5 columns]"
            ]
          },
          "metadata": {
            "tags": []
          },
          "execution_count": 70
        }
      ]
    }
  ]
}
